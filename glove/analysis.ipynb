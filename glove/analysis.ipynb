{
 "cells": [
  {
   "cell_type": "code",
   "execution_count": 1,
   "metadata": {},
   "outputs": [
    {
     "name": "stderr",
     "output_type": "stream",
     "text": [
      "/home/curttigges/miniconda3/envs/rlace/lib/python3.8/site-packages/tqdm/auto.py:22: TqdmWarning: IProgress not found. Please update jupyter and ipywidgets. See https://ipywidgets.readthedocs.io/en/stable/user_install.html\n",
      "  from .autonotebook import tqdm as notebook_tqdm\n"
     ]
    }
   ],
   "source": [
    "%load_ext autoreload\n",
    "%autoreload 2\n",
    "\n",
    "import numpy as np\n",
    "import sys\n",
    "\n",
    "from sklearn.linear_model import SGDClassifier, LinearRegression, Lasso, Ridge\n",
    "from sklearn.utils import shuffle\n",
    "from sklearn.decomposition import PCA\n",
    "import seaborn as sn\n",
    "import random\n",
    "from sklearn.metrics.pairwise import cosine_similarity\n",
    "from collections import defaultdict\n",
    "from sklearn.manifold import TSNE\n",
    "import tqdm\n",
    "import copy\n",
    "from sklearn.svm import LinearSVC \n",
    "\n",
    "from sklearn.cross_decomposition import PLSRegression\n",
    "from sklearn.decomposition import TruncatedSVD\n",
    "import torch\n",
    "from sklearn.linear_model import SGDClassifier\n",
    "from sklearn.svm import LinearSVC\n",
    "\n",
    "import sklearn\n",
    "from sklearn.linear_model import LogisticRegression\n",
    "import random\n",
    "import pickle\n",
    "import matplotlib.pyplot as plt\n",
    "from sklearn import cluster\n",
    "from sklearn import neural_network\n",
    "from gensim.models.keyedvectors import Word2VecKeyedVectors\n",
    "from gensim.models import KeyedVectors\n",
    "import pandas as pd"
   ]
  },
  {
   "cell_type": "code",
   "execution_count": 29,
   "metadata": {},
   "outputs": [],
   "source": [
    "def set_seeds(seed):\n",
    "    \n",
    "    np.random.seed(seed)\n",
    "    random.seed(seed)\n",
    "    torch.manual_seed(seed)\n",
    "    \n",
    "    \n",
    "def load_glove():\n",
    "    with open(\"glove_data/data.pickle\", \"rb\") as f:\n",
    "        data_dict = pickle.load(f)\n",
    "        X,y,words_train = data_dict[\"train\"]\n",
    "        X_dev, y_dev, words_dev = data_dict[\"dev\"]\n",
    "        X_test, y_test, words_test = data_dict[\"test\"]\n",
    "        X,y = X[y > -1], y[y>-1]\n",
    "        X_dev,y_dev = X_dev[y_dev > -1], y_dev[y_dev>-1]\n",
    "        X_test, y_test = X_test[y_test > -1], y_test[y_test > -1]\n",
    "        return (X,y, words_train), (X_dev, y_dev, words_dev), (X_test, y_test, words_test)\n",
    "    \n",
    "    \n",
    "def perform_purity_test(vecs, k, labels_true):\n",
    "        np.random.seed(0)\n",
    "        clustering = sklearn.cluster.KMeans(n_clusters = k)\n",
    "        clustering.fit(vecs)\n",
    "        labels_pred = clustering.labels_\n",
    "        score = sklearn.metrics.homogeneity_score(labels_true, labels_pred)\n",
    "        return score\n",
    "\n",
    "def compute_v_measure(vecs, labels_true, k=2):\n",
    "    \n",
    "        np.random.seed(0)\n",
    "        clustering = sklearn.cluster.KMeans(n_clusters = k)\n",
    "        clustering.fit(vecs)\n",
    "        labels_pred = clustering.labels_\n",
    "        return sklearn.metrics.v_measure_score(labels_true, labels_pred)\n",
    "    \n",
    "    \n",
    "def load_word_vectors(fname):\n",
    "    \n",
    "    model = KeyedVectors.load_word2vec_format(fname, binary=False, limit = 150000)\n",
    "    vecs = model.vectors\n",
    "    words = list(model.vocab.keys())\n",
    "    return model, vecs, words\n",
    "\n",
    "def save_in_word2vec_format(vecs: np.ndarray, words: np.ndarray, fname: str):\n",
    "\n",
    "\n",
    "    with open(fname, \"w\", encoding = \"utf-8\") as f:\n",
    "\n",
    "        f.write(str(len(vecs)) + \" \" + \"300\" + \"\\n\")\n",
    "        for i, (v,w) in tqdm.tqdm_notebook(enumerate(zip(vecs, words))):\n",
    "\n",
    "            vec_as_str = \" \".join([\"{:.6f}\".format(x) for x in v])\n",
    "            f.write(w + \" \" + vec_as_str + \"\\n\")\n",
    "            \n",
    "            \n",
    "def get_inlp_p(ws, rank):\n",
    "    ws_normed = ws/np.linalg.norm(ws, axis = 1, keepdims = True)\n",
    "    ws_normed = ws_normed[:rank]\n",
    "    P = np.eye(ws.shape[1]) - ws_normed.T@ws_normed\n",
    "    return P\n",
    "\n",
    "def get_relaxed_p(rank2adv, rank):\n",
    "    \n",
    "    adv = rank2adv[rank]\n",
    "    U,D = get_svd(adv)\n",
    "    U = U.T\n",
    "    W = U[-rank:] \n",
    "    P = np.eye(X.shape[1]) - W.T@W \n",
    "    return P\n",
    "\n",
    "def get_v_measure(X,Y,P,num_clusts=2):\n",
    "    X_proj, Y = X@P, Y\n",
    "    \n",
    "    #before = compute_v_measure(X[:], Y[:], k = num_clusts)\n",
    "    after = compute_v_measure(X_proj[:], Y[:], k=num_clusts) \n",
    "          \n",
    "    return after\n",
    "\n",
    "\n",
    "def bolukbasi_debiasing(directions, input_dim, rank):\n",
    "    \"\"\"\n",
    "    the goal of this function is to perform INLP on a set of user-provided directiosn (instead of learning those directions).\n",
    "    :param directions: list of vectors, as numpy arrays.\n",
    "    :param input_dim: dimensionality of the vectors.\n",
    "    \"\"\"\n",
    "#     import scipy\n",
    "#     if np.allclose(directions, 0):\n",
    "#         w_basis = np.zeros_like(directions.T)\n",
    "#     else:\n",
    "#         w_basis = scipy.linalg.orth(directions.T) # orthogonal basis\n",
    "\n",
    "#     svd = sklearn.decomposition.TruncatedSVD(n_components=rank)\n",
    "#     if rank < len(directions):\n",
    "#         w_basis = svd.inverse_transform(svd.fit_transform(w_basis.T))\n",
    "#         w_basis = w_basis / np.linalg.norm(w_basis, axis=1, keepdims=True)\n",
    "#         w_basis = w_basis.T\n",
    "    pca = PCA(n_components=rank).fit(directions)\n",
    "    vecs = pca.components_\n",
    "    #P = np.eye(input_dim) - w_basis@w_basis.T\n",
    "    P = np.eye(input_dim) - vecs.T@vecs\n",
    "    return P\n"
   ]
  },
  {
   "cell_type": "code",
   "execution_count": 4,
   "metadata": {},
   "outputs": [],
   "source": [
    "(X,y, words_train), (X_dev, y_dev, words_dev), (X_test, y_test, words_test) = load_glove()"
   ]
  },
  {
   "cell_type": "code",
   "execution_count": 5,
   "metadata": {},
   "outputs": [],
   "source": [
    "model_all, vecs_all, words_all =  load_word_vectors(fname = \"glove_data/glove.42B.300d.txt\")"
   ]
  },
  {
   "cell_type": "code",
   "execution_count": 30,
   "metadata": {},
   "outputs": [],
   "source": [
    "projs_rlace = {}\n",
    "projs_inlp = {}\n",
    "\n",
    "for seed in range(5):\n",
    "    \n",
    "    with open(\"interim/rlace/run={}/Ps_rlace.pickle\".format(seed), \"rb\") as f:\n",
    "        projs_rlace[seed] = pickle.load(f)[0]\n",
    "    \n",
    "    with open(\"interim/inlp/run={}/Ps_inlp.pickle\".format(seed), \"rb\") as f:\n",
    "        projs_inlp[seed] = pickle.load(f)[0]\n",
    "        \n",
    "specific_words = [[\"woman\", \"man\"], [\"girl\", \"boy\"], [\"she\", \"he\"], [\"mother\", \"father\"], [\"daughter\", \"son\"], [\"gal\", \"guy\"], [\"female\", \"male\"], [\"her\", \"his\"], [\"herself\", \"himself\"], [\"mary\", \"john\"]]\n",
    "vecs_specific_words = np.array([ [model_all[p[1]] - model_all[p[0]]] for p in specific_words])\n",
    "vecs_specific_words = vecs_specific_words.squeeze(1)\n",
    "projs_words = []\n",
    "for i in range(1,11):\n",
    "    P = bolukbasi_debiasing(vecs_specific_words.copy(), 300, rank=i)\n",
    "    projs_words.append(P)\n"
   ]
  },
  {
   "cell_type": "code",
   "execution_count": 31,
   "metadata": {},
   "outputs": [
    {
     "data": {
      "text/plain": [
       "{1: 0.5066666666666667,\n",
       " 2: 0.5077551020408163,\n",
       " 4: 0.50421768707483,\n",
       " 8: 0.506938775510204,\n",
       " 12: 0.506938775510204,\n",
       " 16: 0.5048979591836734,\n",
       " 20: 0.5046258503401361}"
      ]
     },
     "execution_count": 31,
     "metadata": {},
     "output_type": "execute_result"
    }
   ],
   "source": [
    "with open(\"interim/rlace/run=1/Ps_rlace.pickle\".format(seed), \"rb\") as f:\n",
    "    data = pickle.load(f)\n",
    "    \n",
    "data[1]"
   ]
  },
  {
   "cell_type": "code",
   "execution_count": 8,
   "metadata": {},
   "outputs": [],
   "source": [
    "def plot_pca(X,y, path, title, method = \"pca\"):\n",
    "    import matplotlib.pyplot as plt\n",
    "    plt.rcParams['font.family'] = 'Serif'\n",
    "\n",
    "    if method == \"pca\":\n",
    "        pca = PCA(n_components=2)\n",
    "        M=6000\n",
    "    elif method == \"tsne\":\n",
    "        pca = TSNE(n_components=2, learning_rate=\"auto\", init=\"pca\")\n",
    "        M=2000\n",
    "        \n",
    "    X_proj = pca.fit_transform(X[:M])\n",
    "    ax = plt.axes()\n",
    "    ax.set_axisbelow(True)\n",
    "    ax.yaxis.grid(color='gray', linestyle='dashed')\n",
    "    ax.xaxis.grid(color='gray', linestyle='dashed')\n",
    "    \n",
    "    y_text = [\"Female-biased\" if yy==1 else \"Male-biased\" for yy in y]\n",
    "    plt1 = sn.scatterplot(X_proj[:, 0], X_proj[:, 1], hue = y_text[:M])\n",
    "    plt.legend(fontsize=19)\n",
    "    ax.set_title('{}'.format(title), fontsize=25)\n",
    "    ax.figure.savefig(\"{}/{}.pdf\".format(path, title), dpi = 400)\n",
    "    plt.show()\n",
    "    plt.clf()\n",
    "    \n",
    "def get_maj(Y):\n",
    "    \n",
    "    from collections import Counter\n",
    "    c = Counter(Y)\n",
    "    p,q = list(c.values())\n",
    "    return max(p/(p+q), 1 - p/(p+q))\n"
   ]
  },
  {
   "cell_type": "code",
   "execution_count": 12,
   "metadata": {},
   "outputs": [
    {
     "name": "stderr",
     "output_type": "stream",
     "text": [
      "/home/nlp/ravfogs/anaconda3/envs/py3/lib/python3.7/site-packages/seaborn/_decorators.py:43: FutureWarning: Pass the following variables as keyword args: x, y. From version 0.12, the only valid positional argument will be `data`, and passing other arguments without an explicit keyword will result in an error or misinterpretation.\n",
      "  FutureWarning\n"
     ]
    },
    {
     "data": {
      "image/png": "[encoded data removed]",
      "text/plain": [
       "<Figure size 432x288 with 1 Axes>"
      ]
     },
     "metadata": {
      "needs_background": "light"
     },
     "output_type": "display_data"
    },
    {
     "data": {
      "text/plain": [
       "<Figure size 432x288 with 0 Axes>"
      ]
     },
     "metadata": {},
     "output_type": "display_data"
    }
   ],
   "source": [
    "plot_pca(X_dev, y_dev, path=\"analysis/analysis-results\",title = \"original\")"
   ]
  },
  {
   "cell_type": "code",
   "execution_count": 13,
   "metadata": {},
   "outputs": [
    {
     "name": "stderr",
     "output_type": "stream",
     "text": [
      "/home/nlp/ravfogs/anaconda3/envs/py3/lib/python3.7/site-packages/seaborn/_decorators.py:43: FutureWarning: Pass the following variables as keyword args: x, y. From version 0.12, the only valid positional argument will be `data`, and passing other arguments without an explicit keyword will result in an error or misinterpretation.\n",
      "  FutureWarning\n"
     ]
    },
    {
     "data": {
      "image/png": "[encoded data removed]",
      "text/plain": [
       "<Figure size 432x288 with 1 Axes>"
      ]
     },
     "metadata": {
      "needs_background": "light"
     },
     "output_type": "display_data"
    },
    {
     "data": {
      "text/plain": [
       "<Figure size 432x288 with 0 Axes>"
      ]
     },
     "metadata": {},
     "output_type": "display_data"
    }
   ],
   "source": [
    "plot_pca(X_dev@projs_inlp[0][1], y_dev, path=\"analysis/analysis-results\",title = \"INLP\")"
   ]
  },
  {
   "cell_type": "code",
   "execution_count": 15,
   "metadata": {},
   "outputs": [
    {
     "name": "stderr",
     "output_type": "stream",
     "text": [
      "/home/nlp/ravfogs/anaconda3/envs/py3/lib/python3.7/site-packages/seaborn/_decorators.py:43: FutureWarning: Pass the following variables as keyword args: x, y. From version 0.12, the only valid positional argument will be `data`, and passing other arguments without an explicit keyword will result in an error or misinterpretation.\n",
      "  FutureWarning\n"
     ]
    },
    {
     "data": {
      "image/png": "[encoded data removed]",
      "text/plain": [
       "<Figure size 432x288 with 1 Axes>"
      ]
     },
     "metadata": {
      "needs_background": "light"
     },
     "output_type": "display_data"
    },
    {
     "data": {
      "text/plain": [
       "<Figure size 432x288 with 0 Axes>"
      ]
     },
     "metadata": {},
     "output_type": "display_data"
    }
   ],
   "source": [
    "plot_pca(X_dev@projs_rlace[0][1], y_dev, path=\"analysis/analysis-results\",title = \"RLACE (ours)\")"
   ]
  },
  {
   "cell_type": "code",
   "execution_count": 93,
   "metadata": {},
   "outputs": [],
   "source": [
    "#plot_pca(X_dev@projs_words[2], y_dev, path=None,title = \"PCA-based debiasing\")"
   ]
  },
  {
   "cell_type": "code",
   "execution_count": 94,
   "metadata": {},
   "outputs": [],
   "source": [
    "# import matplotlib.pyplot as plt\n",
    "# plt.rcParams['font.family'] = 'Sans'\n",
    "\n",
    "# accs_inlp = np.array([projs_inlp[i][\"accs\"] for i in projs_inlp.keys()])\n",
    "# accs_rel = np.array([projs_rlace[i][\"accs\"] for i in projs_inlp.keys()])\n",
    "\n",
    "# accs_inlp_df = pd.DataFrame(accs_inlp, columns = range(len(projs_inlp[0][\"accs\"])))\n",
    "# accs_rel_df = pd.DataFrame(accs_rel, columns = [0]+projs_rlace[0][\"ranks\"])\n",
    "\n",
    "# accs_inlp = accs_inlp.mean(axis=0)\n",
    "# accs_rel = accs_rel.mean(axis=0)\n",
    "\n",
    "# ranks = projs_rlace[0][\"ranks\"]\n",
    "# ranks = [0] + ranks\n",
    "\n",
    "# ax = sn.lineplot(range(16), accs_inlp[:16], marker=\"o\", label = \"INLP\")\n",
    "# sn.lineplot(ranks, accs_rel, label=\"RLACE (ours)\", marker = \"o\", color = \"red\")\n",
    "# ax.axhline(get_maj(y), label=\"Majority\", color = \"black\", linestyle=\"--\")\n",
    "# sn.set(font_scale=1)\n",
    "# ax.set(ylabel=\"Accuracy Post-Projection\", xlabel=\"Dimensions Removed\", ylim=[0,1.03])\n",
    "# plt.xticks(range(0,21,2), fontsize=16)\n",
    "# plt.yticks(fontsize=20)\n",
    "\n",
    "# plt.xlabel(\"Dimensions Removed\", fontsize=20)\n",
    "# plt.ylabel(\"Accuracy Post-Projection\", fontsize=20)\n",
    "\n",
    "# plt.subplots_adjust(bottom=0.18)\n",
    "# plt.subplots_adjust(left=0.18)\n",
    "# ax.legend(fontsize=15)\n",
    "# ax.figure.savefig(\"relaxed_vs_inlp_{}.pdf\".format(\"glove\"), dpi = 400)    "
   ]
  },
  {
   "cell_type": "code",
   "execution_count": 95,
   "metadata": {},
   "outputs": [],
   "source": [
    "# accs_rel_df"
   ]
  },
  {
   "cell_type": "code",
   "execution_count": 37,
   "metadata": {},
   "outputs": [
    {
     "name": "stdout",
     "output_type": "stream",
     "text": [
      "Original 2: 1.0\n",
      "Original 3: 0.6778304418036202\n",
      "Original 5: 0.6321732227062642\n",
      "Original 10: 0.45781218541489044\n",
      "Original 15: 0.38969314341437383\n",
      "Original 20: 0.3656262343542788\n",
      "Original 30: 0.33277933587229375\n",
      "pca 2 1.0\n",
      "pca 3 0.6998498591436535\n",
      "pca 5 0.5383907539756865\n",
      "pca 10 0.4611663889541104\n",
      "pca 15 0.40901903143986085\n",
      "pca 20 0.35019772515134934\n",
      "pca 30 0.34572659281154355\n",
      "Starting\n",
      "2 5.5354631229660656e-05\n",
      "3 0.00037905066629563105\n",
      "5 0.03586216148073483\n",
      "10 0.07369829513154451\n",
      "15 0.10654785147777956\n",
      "20 0.11748296468127274\n",
      "30 0.1089437326328201\n",
      "-------------\n",
      "2 0.0012751659333405175\n",
      "3 0.0011013075648533765\n",
      "5 0.0619715413385864\n",
      "10 0.12817636827930912\n",
      "15 0.12234756768209662\n",
      "20 0.14284760974657137\n",
      "30 0.13502077547759936\n",
      "-------------\n",
      "==========================\n",
      "2 7.695006110047016e-05\n",
      "3 0.0004182032666343437\n",
      "5 0.05336971873022601\n",
      "10 0.07572290171654525\n",
      "15 0.09255854272649536\n",
      "20 0.11354575812991977\n",
      "30 0.11081369170892007\n",
      "-------------\n",
      "2 0.0012264177477130161\n",
      "3 0.0014788382095883837\n",
      "5 0.07155968424828452\n",
      "10 0.16854270577378372\n",
      "15 0.1714921411683711\n",
      "20 0.1484756406442243\n",
      "30 0.14921041269033014\n",
      "-------------\n",
      "==========================\n",
      "2 5.5354631229660656e-05\n",
      "3 0.00035751846848166094\n",
      "5 0.03472300088096338\n",
      "10 0.10616236499043373\n",
      "15 0.10819024109461722\n",
      "20 0.10265156693796593\n",
      "30 0.11044716446147597\n",
      "-------------\n",
      "2 0.0011845422071501109\n",
      "3 0.0016149726638388902\n",
      "5 0.1175777325474793\n",
      "10 0.18074696938448484\n",
      "15 0.15311471383613276\n",
      "20 0.15984074019035988\n",
      "30 0.14825557238846798\n",
      "-------------\n",
      "==========================\n",
      "2 7.695006110047016e-05\n",
      "3 0.0004784621554715247\n",
      "5 0.052225816609496684\n",
      "10 0.0838206211651962\n",
      "15 0.13529675133293512\n",
      "20 0.11114830824854975\n",
      "30 0.11252025037365496\n",
      "-------------\n",
      "2 0.0012751659333405175\n",
      "3 0.0014279529489659016\n",
      "5 0.1089630877913866\n",
      "10 0.12630311173929473\n",
      "15 0.13704353409742964\n",
      "20 0.13734696978475752\n",
      "30 0.13064207135972503\n",
      "-------------\n",
      "==========================\n",
      "2 3.73943741131813e-05\n",
      "3 0.00048629035268796575\n",
      "5 0.0244175096688183\n",
      "10 0.07481337196777003\n",
      "15 0.13333132622888258\n",
      "20 0.11321275180592726\n",
      "30 0.11103481038874169\n",
      "-------------\n",
      "2 0.001180620595266846\n",
      "3 0.0009518509984958149\n",
      "5 0.07845414988831904\n",
      "10 0.1351094961503922\n",
      "15 0.13754725883473784\n",
      "20 0.14133490073176355\n",
      "30 0.14578284714833037\n",
      "-------------\n",
      "==========================\n"
     ]
    }
   ],
   "source": [
    "\n",
    "v_measures_rlace = defaultdict(dict)\n",
    "v_measures_inlp = defaultdict(dict)\n",
    "v_measures_pca = defaultdict(dict)\n",
    "v_measures_original = defaultdict(dict)\n",
    "\n",
    "number_of_clusts = [2,3,5,10,15,20,30]\n",
    "\n",
    "NUM_CLUSTERS=5\n",
    "\n",
    "for num_clust in number_of_clusts:\n",
    "    set_seeds(0)\n",
    "    after = get_v_measure(X_dev, y_dev, np.eye(300), num_clusts=num_clust)\n",
    "    v_measures_original[1][num_clust] = after\n",
    "    print(\"Original {}: {}\".format(num_clust, after))\n",
    "\n",
    "for num_clust in number_of_clusts:\n",
    "        set_seeds(0)\n",
    "        after = get_v_measure(X_dev, y_dev, projs_words[0], num_clusts=num_clust)\n",
    "        v_measures_pca[1][num_clust] = after\n",
    "        print(\"pca\", num_clust, after)\n",
    "        \n",
    "        \n",
    "print(\"Starting\")\n",
    "rank = 1\n",
    "for rand_seed in projs_rlace.keys():\n",
    "    \n",
    "    set_seeds(0)\n",
    "    Ps_rlace = projs_rlace[rand_seed]\n",
    "    Ps_inlp = projs_inlp[rand_seed]\n",
    "    \n",
    "    P_rlace = Ps_rlace[rank]\n",
    "    P_inlp = Ps_inlp[rank-1]\n",
    "    \n",
    "    for num_clust in number_of_clusts:\n",
    "\n",
    "        after = get_v_measure(X_dev, y_dev, P_rlace, num_clusts=num_clust)\n",
    "        v_measures_rlace[rand_seed][num_clust] = after\n",
    "        print(num_clust, after)\n",
    "    print(\"-------------\")\n",
    "    \n",
    "    #for num_clusts in number_of_clusts:\n",
    "    for num_clust in number_of_clusts:\n",
    "        set_seeds(0)\n",
    "        after = get_v_measure(X_dev, y_dev, P_inlp, num_clusts=num_clust)\n",
    "        v_measures_inlp[rand_seed][num_clust] = after\n",
    "        print(num_clust, after)\n",
    "        \n",
    "    print(\"-------------\")\n",
    "    \n",
    "\n",
    "        \n",
    "    print(\"==========================\")\n",
    "        "
   ]
  },
  {
   "cell_type": "code",
   "execution_count": 38,
   "metadata": {},
   "outputs": [],
   "source": [
    "v_measures_inlp_df = pd.DataFrame(v_measures_inlp)\n",
    "v_measures_inlp_df['average'] = v_measures_inlp_df.mean(numeric_only=True, axis=1)\n",
    "v_measures_inlp_df[\"std\"] = v_measures_inlp_df.std(numeric_only=True, axis=1)\n",
    "v_measures_inlp_df = v_measures_inlp_df.rename_axis(\"num_clusters\").reset_index()\n",
    "\n",
    "\n",
    "v_measures_rlace_df = pd.DataFrame(v_measures_rlace)\n",
    "v_measures_rlace_df['average'] = v_measures_rlace_df.mean(numeric_only=True, axis=1)\n",
    "v_measures_rlace_df[\"std\"] = v_measures_rlace_df.std(numeric_only=True, axis=1)\n",
    "v_measures_rlace_df = v_measures_rlace_df.rename_axis(\"num_clusters\").reset_index()\n",
    "\n",
    "v_measures_pca_df = pd.DataFrame(v_measures_pca)\n",
    "v_measures_pca_df['average'] = v_measures_pca_df.mean(numeric_only=True, axis=1)\n",
    "v_measures_pca_df[\"std\"] = v_measures_pca_df.std(numeric_only=True, axis=1)\n",
    "v_measures_pca_df = v_measures_pca_df.rename_axis(\"num_clusters\").reset_index()\n",
    "\n",
    "\n",
    "v_measures_original_df = pd.DataFrame(v_measures_original)\n",
    "v_measures_original_df['average'] = v_measures_original_df.mean(numeric_only=True, axis=1)\n",
    "v_measures_original_df[\"std\"] = v_measures_original_df.std(numeric_only=True, axis=1)\n",
    "v_measures_original_df = v_measures_original_df.rename_axis(\"num_clusters\").reset_index()"
   ]
  },
  {
   "cell_type": "code",
   "execution_count": 39,
   "metadata": {},
   "outputs": [],
   "source": [
    "v_measures_inlp_df.to_csv(\"analysis/analysis-results/v_measure_inlp.csv\")\n",
    "v_measures_rlace_df.to_csv(\"analysis/analysis-results/v_measure_rlace.csv\")\n",
    "v_measures_pca_df.to_csv(\"analysis/analysis-results/v_mesure_pca.csv\")\n",
    "v_measures_original_df.to_csv(\"analysis/analysis-results/v_mesure_original.csv\")"
   ]
  },
  {
   "cell_type": "code",
   "execution_count": 40,
   "metadata": {},
   "outputs": [
    {
     "data": {
      "text/html": [
       "<div>\n",
       "<style scoped>\n",
       "    .dataframe tbody tr th:only-of-type {\n",
       "        vertical-align: middle;\n",
       "    }\n",
       "\n",
       "    .dataframe tbody tr th {\n",
       "        vertical-align: top;\n",
       "    }\n",
       "\n",
       "    .dataframe thead th {\n",
       "        text-align: right;\n",
       "    }\n",
       "</style>\n",
       "<table border=\"1\" class=\"dataframe\">\n",
       "  <thead>\n",
       "    <tr style=\"text-align: right;\">\n",
       "      <th></th>\n",
       "      <th>num_clusters</th>\n",
       "      <th>0</th>\n",
       "      <th>1</th>\n",
       "      <th>2</th>\n",
       "      <th>3</th>\n",
       "      <th>4</th>\n",
       "      <th>average</th>\n",
       "      <th>std</th>\n",
       "    </tr>\n",
       "  </thead>\n",
       "  <tbody>\n",
       "    <tr>\n",
       "      <th>0</th>\n",
       "      <td>2</td>\n",
       "      <td>0.000055</td>\n",
       "      <td>0.000077</td>\n",
       "      <td>0.000055</td>\n",
       "      <td>0.000077</td>\n",
       "      <td>0.000037</td>\n",
       "      <td>0.000060</td>\n",
       "      <td>0.000015</td>\n",
       "    </tr>\n",
       "    <tr>\n",
       "      <th>1</th>\n",
       "      <td>3</td>\n",
       "      <td>0.000379</td>\n",
       "      <td>0.000418</td>\n",
       "      <td>0.000358</td>\n",
       "      <td>0.000478</td>\n",
       "      <td>0.000486</td>\n",
       "      <td>0.000424</td>\n",
       "      <td>0.000052</td>\n",
       "    </tr>\n",
       "    <tr>\n",
       "      <th>2</th>\n",
       "      <td>5</td>\n",
       "      <td>0.035862</td>\n",
       "      <td>0.053370</td>\n",
       "      <td>0.034723</td>\n",
       "      <td>0.052226</td>\n",
       "      <td>0.024418</td>\n",
       "      <td>0.040120</td>\n",
       "      <td>0.011099</td>\n",
       "    </tr>\n",
       "    <tr>\n",
       "      <th>3</th>\n",
       "      <td>10</td>\n",
       "      <td>0.073698</td>\n",
       "      <td>0.075723</td>\n",
       "      <td>0.106162</td>\n",
       "      <td>0.083821</td>\n",
       "      <td>0.074813</td>\n",
       "      <td>0.082844</td>\n",
       "      <td>0.012195</td>\n",
       "    </tr>\n",
       "    <tr>\n",
       "      <th>4</th>\n",
       "      <td>15</td>\n",
       "      <td>0.106548</td>\n",
       "      <td>0.092559</td>\n",
       "      <td>0.108190</td>\n",
       "      <td>0.135297</td>\n",
       "      <td>0.133331</td>\n",
       "      <td>0.115185</td>\n",
       "      <td>0.016548</td>\n",
       "    </tr>\n",
       "    <tr>\n",
       "      <th>5</th>\n",
       "      <td>20</td>\n",
       "      <td>0.117483</td>\n",
       "      <td>0.113546</td>\n",
       "      <td>0.102652</td>\n",
       "      <td>0.111148</td>\n",
       "      <td>0.113213</td>\n",
       "      <td>0.111608</td>\n",
       "      <td>0.004925</td>\n",
       "    </tr>\n",
       "    <tr>\n",
       "      <th>6</th>\n",
       "      <td>30</td>\n",
       "      <td>0.108944</td>\n",
       "      <td>0.110814</td>\n",
       "      <td>0.110447</td>\n",
       "      <td>0.112520</td>\n",
       "      <td>0.111035</td>\n",
       "      <td>0.110752</td>\n",
       "      <td>0.001147</td>\n",
       "    </tr>\n",
       "  </tbody>\n",
       "</table>\n",
       "</div>"
      ],
      "text/plain": [
       "   num_clusters         0         1         2         3         4   average  \\\n",
       "0             2  0.000055  0.000077  0.000055  0.000077  0.000037  0.000060   \n",
       "1             3  0.000379  0.000418  0.000358  0.000478  0.000486  0.000424   \n",
       "2             5  0.035862  0.053370  0.034723  0.052226  0.024418  0.040120   \n",
       "3            10  0.073698  0.075723  0.106162  0.083821  0.074813  0.082844   \n",
       "4            15  0.106548  0.092559  0.108190  0.135297  0.133331  0.115185   \n",
       "5            20  0.117483  0.113546  0.102652  0.111148  0.113213  0.111608   \n",
       "6            30  0.108944  0.110814  0.110447  0.112520  0.111035  0.110752   \n",
       "\n",
       "        std  \n",
       "0  0.000015  \n",
       "1  0.000052  \n",
       "2  0.011099  \n",
       "3  0.012195  \n",
       "4  0.016548  \n",
       "5  0.004925  \n",
       "6  0.001147  "
      ]
     },
     "execution_count": 40,
     "metadata": {},
     "output_type": "execute_result"
    }
   ],
   "source": [
    "v_measures_rlace_df"
   ]
  },
  {
   "cell_type": "code",
   "execution_count": 41,
   "metadata": {},
   "outputs": [
    {
     "data": {
      "text/html": [
       "<div>\n",
       "<style scoped>\n",
       "    .dataframe tbody tr th:only-of-type {\n",
       "        vertical-align: middle;\n",
       "    }\n",
       "\n",
       "    .dataframe tbody tr th {\n",
       "        vertical-align: top;\n",
       "    }\n",
       "\n",
       "    .dataframe thead th {\n",
       "        text-align: right;\n",
       "    }\n",
       "</style>\n",
       "<table border=\"1\" class=\"dataframe\">\n",
       "  <thead>\n",
       "    <tr style=\"text-align: right;\">\n",
       "      <th></th>\n",
       "      <th>num_clusters</th>\n",
       "      <th>1</th>\n",
       "      <th>average</th>\n",
       "      <th>std</th>\n",
       "    </tr>\n",
       "  </thead>\n",
       "  <tbody>\n",
       "    <tr>\n",
       "      <th>0</th>\n",
       "      <td>2</td>\n",
       "      <td>1.000000</td>\n",
       "      <td>1.000000</td>\n",
       "      <td>0.0</td>\n",
       "    </tr>\n",
       "    <tr>\n",
       "      <th>1</th>\n",
       "      <td>3</td>\n",
       "      <td>0.677830</td>\n",
       "      <td>0.677830</td>\n",
       "      <td>0.0</td>\n",
       "    </tr>\n",
       "    <tr>\n",
       "      <th>2</th>\n",
       "      <td>5</td>\n",
       "      <td>0.632173</td>\n",
       "      <td>0.632173</td>\n",
       "      <td>0.0</td>\n",
       "    </tr>\n",
       "    <tr>\n",
       "      <th>3</th>\n",
       "      <td>10</td>\n",
       "      <td>0.457812</td>\n",
       "      <td>0.457812</td>\n",
       "      <td>0.0</td>\n",
       "    </tr>\n",
       "    <tr>\n",
       "      <th>4</th>\n",
       "      <td>15</td>\n",
       "      <td>0.389693</td>\n",
       "      <td>0.389693</td>\n",
       "      <td>0.0</td>\n",
       "    </tr>\n",
       "    <tr>\n",
       "      <th>5</th>\n",
       "      <td>20</td>\n",
       "      <td>0.365626</td>\n",
       "      <td>0.365626</td>\n",
       "      <td>0.0</td>\n",
       "    </tr>\n",
       "    <tr>\n",
       "      <th>6</th>\n",
       "      <td>30</td>\n",
       "      <td>0.332779</td>\n",
       "      <td>0.332779</td>\n",
       "      <td>0.0</td>\n",
       "    </tr>\n",
       "  </tbody>\n",
       "</table>\n",
       "</div>"
      ],
      "text/plain": [
       "   num_clusters         1   average  std\n",
       "0             2  1.000000  1.000000  0.0\n",
       "1             3  0.677830  0.677830  0.0\n",
       "2             5  0.632173  0.632173  0.0\n",
       "3            10  0.457812  0.457812  0.0\n",
       "4            15  0.389693  0.389693  0.0\n",
       "5            20  0.365626  0.365626  0.0\n",
       "6            30  0.332779  0.332779  0.0"
      ]
     },
     "execution_count": 41,
     "metadata": {},
     "output_type": "execute_result"
    }
   ],
   "source": [
    "v_measures_original_df"
   ]
  },
  {
   "cell_type": "code",
   "execution_count": 42,
   "metadata": {},
   "outputs": [
    {
     "data": {
      "text/html": [
       "<div>\n",
       "<style scoped>\n",
       "    .dataframe tbody tr th:only-of-type {\n",
       "        vertical-align: middle;\n",
       "    }\n",
       "\n",
       "    .dataframe tbody tr th {\n",
       "        vertical-align: top;\n",
       "    }\n",
       "\n",
       "    .dataframe thead th {\n",
       "        text-align: right;\n",
       "    }\n",
       "</style>\n",
       "<table border=\"1\" class=\"dataframe\">\n",
       "  <thead>\n",
       "    <tr style=\"text-align: right;\">\n",
       "      <th></th>\n",
       "      <th>num_clusters</th>\n",
       "      <th>0</th>\n",
       "      <th>1</th>\n",
       "      <th>2</th>\n",
       "      <th>3</th>\n",
       "      <th>4</th>\n",
       "      <th>average</th>\n",
       "      <th>std</th>\n",
       "    </tr>\n",
       "  </thead>\n",
       "  <tbody>\n",
       "    <tr>\n",
       "      <th>0</th>\n",
       "      <td>2</td>\n",
       "      <td>0.001275</td>\n",
       "      <td>0.001226</td>\n",
       "      <td>0.001185</td>\n",
       "      <td>0.001275</td>\n",
       "      <td>0.001181</td>\n",
       "      <td>0.001228</td>\n",
       "      <td>0.000041</td>\n",
       "    </tr>\n",
       "    <tr>\n",
       "      <th>1</th>\n",
       "      <td>3</td>\n",
       "      <td>0.001101</td>\n",
       "      <td>0.001479</td>\n",
       "      <td>0.001615</td>\n",
       "      <td>0.001428</td>\n",
       "      <td>0.000952</td>\n",
       "      <td>0.001315</td>\n",
       "      <td>0.000248</td>\n",
       "    </tr>\n",
       "    <tr>\n",
       "      <th>2</th>\n",
       "      <td>5</td>\n",
       "      <td>0.061972</td>\n",
       "      <td>0.071560</td>\n",
       "      <td>0.117578</td>\n",
       "      <td>0.108963</td>\n",
       "      <td>0.078454</td>\n",
       "      <td>0.087705</td>\n",
       "      <td>0.021692</td>\n",
       "    </tr>\n",
       "    <tr>\n",
       "      <th>3</th>\n",
       "      <td>10</td>\n",
       "      <td>0.128176</td>\n",
       "      <td>0.168543</td>\n",
       "      <td>0.180747</td>\n",
       "      <td>0.126303</td>\n",
       "      <td>0.135109</td>\n",
       "      <td>0.147776</td>\n",
       "      <td>0.022468</td>\n",
       "    </tr>\n",
       "    <tr>\n",
       "      <th>4</th>\n",
       "      <td>15</td>\n",
       "      <td>0.122348</td>\n",
       "      <td>0.171492</td>\n",
       "      <td>0.153115</td>\n",
       "      <td>0.137044</td>\n",
       "      <td>0.137547</td>\n",
       "      <td>0.144309</td>\n",
       "      <td>0.016717</td>\n",
       "    </tr>\n",
       "    <tr>\n",
       "      <th>5</th>\n",
       "      <td>20</td>\n",
       "      <td>0.142848</td>\n",
       "      <td>0.148476</td>\n",
       "      <td>0.159841</td>\n",
       "      <td>0.137347</td>\n",
       "      <td>0.141335</td>\n",
       "      <td>0.145969</td>\n",
       "      <td>0.007801</td>\n",
       "    </tr>\n",
       "    <tr>\n",
       "      <th>6</th>\n",
       "      <td>30</td>\n",
       "      <td>0.135021</td>\n",
       "      <td>0.149210</td>\n",
       "      <td>0.148256</td>\n",
       "      <td>0.130642</td>\n",
       "      <td>0.145783</td>\n",
       "      <td>0.141782</td>\n",
       "      <td>0.007522</td>\n",
       "    </tr>\n",
       "  </tbody>\n",
       "</table>\n",
       "</div>"
      ],
      "text/plain": [
       "   num_clusters         0         1         2         3         4   average  \\\n",
       "0             2  0.001275  0.001226  0.001185  0.001275  0.001181  0.001228   \n",
       "1             3  0.001101  0.001479  0.001615  0.001428  0.000952  0.001315   \n",
       "2             5  0.061972  0.071560  0.117578  0.108963  0.078454  0.087705   \n",
       "3            10  0.128176  0.168543  0.180747  0.126303  0.135109  0.147776   \n",
       "4            15  0.122348  0.171492  0.153115  0.137044  0.137547  0.144309   \n",
       "5            20  0.142848  0.148476  0.159841  0.137347  0.141335  0.145969   \n",
       "6            30  0.135021  0.149210  0.148256  0.130642  0.145783  0.141782   \n",
       "\n",
       "        std  \n",
       "0  0.000041  \n",
       "1  0.000248  \n",
       "2  0.021692  \n",
       "3  0.022468  \n",
       "4  0.016717  \n",
       "5  0.007801  \n",
       "6  0.007522  "
      ]
     },
     "execution_count": 42,
     "metadata": {},
     "output_type": "execute_result"
    }
   ],
   "source": [
    "v_measures_inlp_df"
   ]
  },
  {
   "cell_type": "code",
   "execution_count": 54,
   "metadata": {},
   "outputs": [
    {
     "data": {
      "image/png": "[encoded data removed]",
      "text/plain": [
       "<Figure size 432x288 with 1 Axes>"
      ]
     },
     "metadata": {},
     "output_type": "display_data"
    }
   ],
   "source": [
    "sn.set()\n",
    "\n",
    "fig, ax = plt.subplots()\n",
    "plt.rcParams['font.family'] = 'Sans'\n",
    "\n",
    "v_measures_rlace_df.plot('num_clusters', 'average', yerr='std', ax=ax, label=\"RLACE (ours)\", marker=\"*\")\n",
    "v_measures_inlp_df.plot('num_clusters', 'average', yerr='std', ax=ax, label=\"INLP\", marker=\"*\")\n",
    "v_measures_pca_df.plot('num_clusters', 'average', yerr='std', ax=ax, label=\"PCA-based\", marker=\"*\")\n",
    "#v_measures_original_df.plot('num_clusters', 'average', yerr='std', ax=ax, label=\"Original space\", marker=\"*\", linestyle = \"--\")\n",
    "\n",
    "plt.ylabel(\"V-measure\", fontsize=18)\n",
    "plt.xlabel(\"Number of clusters\", fontsize=18)\n",
    "\n",
    "plt.legend(fontsize=18)\n",
    "#ax.yaxis.grid(color='gray', linestyle=\"-\")\n",
    "#ax.xaxis.grid(color='gray', linestyle='-')\n",
    "plt.yticks(fontsize=18)\n",
    "plt.xticks([2,5,10,15,20,25,30], fontsize=18)\n",
    "plt.subplots_adjust(bottom=0.17)\n",
    "plt.subplots_adjust(left=0.17)\n",
    "ax.figure.savefig(\"analysis/analysis-results/v-mesaure.pdf\", dpi = 400)    \n",
    "plt.show()\n"
   ]
  },
  {
   "cell_type": "markdown",
   "metadata": {},
   "source": [
    "## classification"
   ]
  },
  {
   "cell_type": "code",
   "execution_count": 32,
   "metadata": {},
   "outputs": [
    {
     "name": "stdout",
     "output_type": "stream",
     "text": [
      "0\n",
      "rlace 1 0.5246666666666666\n",
      "inlp 1 0.862\n",
      "rlace 2 0.5255555555555556\n",
      "inlp 2 0.7617777777777778\n",
      "rlace 4 0.5177777777777778\n",
      "inlp 4 0.6484444444444445\n",
      "rlace 8 0.5008888888888889\n",
      "inlp 8 0.6122222222222222\n",
      "rlace 12 0.5048888888888889\n",
      "inlp 12 0.5762222222222222\n",
      "rlace 16 0.512\n",
      "inlp 16 0.5677777777777778\n",
      "rlace 20 0.5308888888888889\n",
      "inlp 20 0.5702222222222222\n",
      "==========================\n",
      "1\n",
      "rlace 1 0.49733333333333335\n",
      "inlp 1 0.9288888888888889\n",
      "rlace 2 0.5582222222222222\n",
      "inlp 2 0.8315555555555556\n",
      "rlace 4 0.5277777777777778\n",
      "inlp 4 0.7024444444444444\n",
      "rlace 8 0.48933333333333334\n",
      "inlp 8 0.5917777777777777\n",
      "rlace 12 0.5233333333333333\n",
      "inlp 12 0.5568888888888889\n",
      "rlace 16 0.5228888888888888\n",
      "inlp 16 0.5562222222222222\n",
      "rlace 20 0.4955555555555556\n",
      "inlp 20 0.5584444444444444\n",
      "==========================\n",
      "2\n",
      "rlace 1 0.482\n",
      "inlp 1 0.9337777777777778\n",
      "rlace 2 0.5231111111111111\n",
      "inlp 2 0.8417777777777777\n",
      "rlace 4 0.5168888888888888\n",
      "inlp 4 0.7126666666666667\n",
      "rlace 8 0.5048888888888889\n",
      "inlp 8 0.6184444444444445\n",
      "rlace 12 0.5337777777777778\n",
      "inlp 12 0.5804444444444444\n",
      "rlace 16 0.5335555555555556\n",
      "inlp 16 0.5653333333333334\n",
      "rlace 20 0.5286666666666666\n",
      "inlp 20 0.5524444444444444\n",
      "==========================\n",
      "3\n",
      "rlace 1 0.5231111111111111\n",
      "inlp 1 0.8408888888888889\n",
      "rlace 2 0.5235555555555556\n",
      "inlp 2 0.752\n",
      "rlace 4 0.48533333333333334\n",
      "inlp 4 0.6633333333333333\n",
      "rlace 8 0.5253333333333333\n",
      "inlp 8 0.5851111111111111\n",
      "rlace 12 0.5348888888888889\n",
      "inlp 12 0.5606666666666666\n",
      "rlace 16 0.5208888888888888\n",
      "inlp 16 0.53\n",
      "rlace 20 0.5064444444444445\n",
      "inlp 20 0.5395555555555556\n",
      "==========================\n",
      "4\n",
      "rlace 1 0.5264444444444445\n",
      "inlp 1 0.8746666666666667\n",
      "rlace 2 0.5228888888888888\n",
      "inlp 2 0.7684444444444445\n",
      "rlace 4 0.514\n",
      "inlp 4 0.67\n",
      "rlace 8 0.4988888888888889\n",
      "inlp 8 0.5935555555555555\n",
      "rlace 12 0.5264444444444445\n",
      "inlp 12 0.5704444444444444\n",
      "rlace 16 0.51\n",
      "inlp 16 0.5435555555555556\n",
      "rlace 20 0.5237777777777778\n",
      "inlp 20 0.5342222222222223\n",
      "==========================\n"
     ]
    }
   ],
   "source": [
    "\n",
    "\n",
    "accs_inlp = defaultdict(dict)\n",
    "accs_rlace = defaultdict(dict)\n",
    "accs_pca = defaultdict(dict)\n",
    "\n",
    "model_class = SGDClassifier\n",
    "model_params = {\"max_iter\": 150000, \"tol\": 1e-4, \"n_iter_no_change\": 50, \"alpha\": 0.5*1e-4}\n",
    "\n",
    "for rand_seed in projs_rlace.keys():\n",
    "    print(rand_seed)\n",
    "    \n",
    "    set_seeds(0)\n",
    "    Ps_rlace = projs_rlace[rand_seed]\n",
    "    Ps_inlp = projs_inlp[rand_seed]\n",
    "    \n",
    "    for i,rank in enumerate(projs_rlace[rand_seed].keys()):\n",
    "        \n",
    "        P = projs_rlace[rand_seed][rank]\n",
    "        \n",
    "        clf = model_class(**model_params)\n",
    "        X_train_clean, X_test_clean = X@P, X_test@P\n",
    "        clf.fit(X_train_clean, y)\n",
    "        score = clf.score(X_test_clean, y_test)\n",
    "        accs_rlace[rand_seed][rank] = score\n",
    "        print(\"rlace\", rank, score)\n",
    "        \n",
    "        P = (projs_inlp[rand_seed][rank-1])\n",
    "        #mlp = sklearn.neural_network.MLPClassifier()\n",
    "        clf = model_class(**model_params)\n",
    "        X_train_clean, X_test_clean = X@P, X_test@P\n",
    "        clf.fit(X_train_clean, y)\n",
    "        score = clf.score(X_test_clean, y_test)\n",
    "        accs_inlp[rand_seed][rank] = score\n",
    "        print(\"inlp\", rank, score)\n",
    "        \n",
    "    print(\"==========================\")\n",
    "    \n",
    "         \n",
    "    \n",
    "        "
   ]
  },
  {
   "cell_type": "code",
   "execution_count": 33,
   "metadata": {},
   "outputs": [
    {
     "name": "stdout",
     "output_type": "stream",
     "text": [
      "pca 1 1.0\n",
      "pca 2 1.0\n",
      "pca 3 0.9791111111111112\n",
      "pca 4 0.976\n",
      "pca 5 0.9751111111111112\n",
      "pca 6 0.9757777777777777\n",
      "pca 7 0.97\n",
      "pca 8 0.9713333333333334\n",
      "pca 9 0.9682222222222222\n",
      "pca 10 0.9682222222222222\n"
     ]
    }
   ],
   "source": [
    "model_class = SGDClassifier\n",
    "model_params = {\"max_iter\": 1800000, \"tol\": 1e-4, \"n_iter_no_change\": 50, \"alpha\": 0.5*1e-4}\n",
    "\n",
    "for i in range(len(projs_words)):\n",
    "        P = projs_words[i]\n",
    "        clf = model_class(**model_params)\n",
    "        X_train_clean, X_test_clean = X@P, X_test@P\n",
    "        clf.fit(X_train_clean, y)\n",
    "        score = clf.score(X_test_clean, y_test)\n",
    "        accs_pca[0][i+1] = score\n",
    "        print(\"pca\", i+1, score)          "
   ]
  },
  {
   "cell_type": "code",
   "execution_count": 34,
   "metadata": {},
   "outputs": [
    {
     "name": "stdout",
     "output_type": "stream",
     "text": [
      "   rank         0         1         2         3         4   average       std\n",
      "0     1  0.524667  0.497333  0.482000  0.523111  0.526444  0.510711  0.017885\n",
      "1     2  0.525556  0.558222  0.523111  0.523556  0.522889  0.530667  0.013810\n",
      "2     4  0.517778  0.527778  0.516889  0.485333  0.514000  0.512356  0.014288\n",
      "3     8  0.500889  0.489333  0.504889  0.525333  0.498889  0.503867  0.011889\n",
      "4    12  0.504889  0.523333  0.533778  0.534889  0.526444  0.524667  0.010804\n",
      "5    16  0.512000  0.522889  0.533556  0.520889  0.510000  0.519867  0.008447\n",
      "6    20  0.530889  0.495556  0.528667  0.506444  0.523778  0.517067  0.013757\n",
      "============================\n",
      "   rank         0         1         2         3         4   average       std\n",
      "0     1  0.862000  0.928889  0.933778  0.840889  0.874667  0.888044  0.036988\n",
      "1     2  0.761778  0.831556  0.841778  0.752000  0.768444  0.791111  0.037701\n",
      "2     4  0.648444  0.702444  0.712667  0.663333  0.670000  0.679378  0.024259\n",
      "3     8  0.612222  0.591778  0.618444  0.585111  0.593556  0.600222  0.012807\n",
      "4    12  0.576222  0.556889  0.580444  0.560667  0.570444  0.568933  0.008959\n",
      "5    16  0.567778  0.556222  0.565333  0.530000  0.543556  0.552578  0.014129\n",
      "6    20  0.570222  0.558444  0.552444  0.539556  0.534222  0.550978  0.012957\n",
      "============================\n",
      "   rank         0   average  std\n",
      "0     1  1.000000  1.000000  0.0\n",
      "1     2  1.000000  1.000000  0.0\n",
      "2     3  0.979111  0.979111  0.0\n",
      "3     4  0.976000  0.976000  0.0\n",
      "4     5  0.975111  0.975111  0.0\n",
      "5     6  0.975778  0.975778  0.0\n",
      "6     7  0.970000  0.970000  0.0\n",
      "7     8  0.971333  0.971333  0.0\n",
      "8     9  0.968222  0.968222  0.0\n",
      "9    10  0.968222  0.968222  0.0\n",
      "============================\n"
     ]
    }
   ],
   "source": [
    "#df_originals = pd.DataFrame(originals)\n",
    "df_rlace = pd.DataFrame(accs_rlace)\n",
    "df_inlp = pd.DataFrame(accs_inlp)\n",
    "df_pca = pd.DataFrame(accs_pca)\n",
    "\n",
    "for df in [df_rlace, df_inlp, df_pca]:\n",
    "    \n",
    "    df['average'] = df.mean(numeric_only=True, axis=1)\n",
    "    df[\"std\"] = df.std(numeric_only=True, axis=1)\n",
    "    df.rename_axis(\"rank\", inplace=True)\n",
    "    df.reset_index(inplace=True)\n",
    "    print(df)\n",
    "    print(\"============================\")"
   ]
  },
  {
   "cell_type": "code",
   "execution_count": 35,
   "metadata": {},
   "outputs": [
    {
     "name": "stdout",
     "output_type": "stream",
     "text": [
      "   rank         0         1         2         3         4   average       std\n",
      "0     1  0.524667  0.497333  0.482000  0.523111  0.526444  0.510711  0.017885\n",
      "1     2  0.525556  0.558222  0.523111  0.523556  0.522889  0.530667  0.013810\n",
      "2     4  0.517778  0.527778  0.516889  0.485333  0.514000  0.512356  0.014288\n",
      "3     8  0.500889  0.489333  0.504889  0.525333  0.498889  0.503867  0.011889\n",
      "4    12  0.504889  0.523333  0.533778  0.534889  0.526444  0.524667  0.010804\n",
      "5    16  0.512000  0.522889  0.533556  0.520889  0.510000  0.519867  0.008447\n",
      "6    20  0.530889  0.495556  0.528667  0.506444  0.523778  0.517067  0.013757\n",
      "================\n",
      "   rank         0         1         2         3         4   average       std\n",
      "0     1  0.862000  0.928889  0.933778  0.840889  0.874667  0.888044  0.036988\n",
      "1     2  0.761778  0.831556  0.841778  0.752000  0.768444  0.791111  0.037701\n",
      "2     4  0.648444  0.702444  0.712667  0.663333  0.670000  0.679378  0.024259\n",
      "3     8  0.612222  0.591778  0.618444  0.585111  0.593556  0.600222  0.012807\n",
      "4    12  0.576222  0.556889  0.580444  0.560667  0.570444  0.568933  0.008959\n",
      "5    16  0.567778  0.556222  0.565333  0.530000  0.543556  0.552578  0.014129\n",
      "6    20  0.570222  0.558444  0.552444  0.539556  0.534222  0.550978  0.012957\n",
      "================\n",
      "   rank         0   average  std\n",
      "0     1  1.000000  1.000000  0.0\n",
      "1     2  1.000000  1.000000  0.0\n",
      "2     3  0.979111  0.979111  0.0\n",
      "3     4  0.976000  0.976000  0.0\n",
      "4     5  0.975111  0.975111  0.0\n",
      "5     6  0.975778  0.975778  0.0\n",
      "6     7  0.970000  0.970000  0.0\n",
      "7     8  0.971333  0.971333  0.0\n",
      "8     9  0.968222  0.968222  0.0\n",
      "9    10  0.968222  0.968222  0.0\n"
     ]
    }
   ],
   "source": [
    "print(df_rlace)\n",
    "print(\"================\")\n",
    "print(df_inlp)\n",
    "print(\"================\")\n",
    "print(df_pca)"
   ]
  },
  {
   "cell_type": "code",
   "execution_count": 36,
   "metadata": {},
   "outputs": [
    {
     "data": {
      "image/png": "[encoded data removed]",
      "text/plain": [
       "<Figure size 432x288 with 1 Axes>"
      ]
     },
     "metadata": {},
     "output_type": "display_data"
    }
   ],
   "source": [
    "sn.set()\n",
    "\n",
    "fig, ax = plt.subplots()\n",
    "plt.rcParams['font.family'] = 'Serif'\n",
    "\n",
    "df_rlace.plot('rank', 'average', yerr='std', ax=ax, label=\"RLACE (ours)\", marker=\"*\")\n",
    "df_inlp.plot('rank', 'average', yerr='std', ax=ax, label=\"INLP\", marker=\"*\")\n",
    "df_pca.plot('rank', 'average', yerr='std', ax=ax, label=\"PCA-based\", marker=\"*\")\n",
    "#v_measures_original_df.plot('num_clusters', 'average', yerr='std', ax=ax, label=\"Original space\", marker=\"*\", linestyle = \"--\")\n",
    "\n",
    "plt.ylabel(\"Post-projection Accuracy\", fontsize=18, fontname=\"Serif\")\n",
    "plt.xlabel(\"Dimensions Removed\", fontsize=18, fontname=\"Serif\")\n",
    "ax.axhline(get_maj(y_test), label=\"Majority\", color = \"black\", linestyle=\"--\")\n",
    "\n",
    "#plt.legend(fontsize=18)\n",
    "#ax.yaxis.grid(color='gray', linestyle=\"-\")\n",
    "#ax.xaxis.grid(color='gray', linestyle='-')\n",
    "plt.yticks(fontsize=18)\n",
    "plt.xticks(range(1,21,2), fontsize=18)\n",
    "plt.subplots_adjust(bottom=0.17)\n",
    "plt.subplots_adjust(left=0.15)\n",
    "ax.figure.savefig(\"analysis/analysis-results/gender-glove.pdf\", dpi = 700) \n",
    "\n",
    "plt.show()\n"
   ]
  },
  {
   "cell_type": "code",
   "execution_count": 80,
   "metadata": {},
   "outputs": [
    {
     "data": {
      "text/plain": [
       "0.5058503401360545"
      ]
     },
     "execution_count": 80,
     "metadata": {},
     "output_type": "execute_result"
    }
   ],
   "source": [
    "y.mean()"
   ]
  },
  {
   "cell_type": "markdown",
   "metadata": {},
   "source": [
    "## load glove"
   ]
  },
  {
   "cell_type": "code",
   "execution_count": 45,
   "metadata": {},
   "outputs": [],
   "source": [
    "# #with open(\"glove-all-gendered_data.pickle\", \"rb\") as f:\n",
    "# #    all_data = pickle.load(f)    \n",
    "# #vecs, words, labels = all_data[\"vecs\"], all_data[\"words\"], all_data[\"labels\"]\n",
    "# model_all, vecs_all, words_all =  load_word_vectors(fname = \"../../glove.42B.300d.txt\")\n",
    "# rank=1\n",
    "\n",
    "# #vecs_cleaned = (P.dot(vecs_all.T)).T\n",
    "# #vecs_cleaned_inlp = (get_inlp_p(ws_inlp, rank)@vecs_all.T).T\n",
    "\n",
    "# \"\"\"\n",
    "# save_in_word2vec_format(vecs_cleaned, words_all, \"../../glove.42B.300d.cleaned.rank={}.txt\".format(rank))\n",
    "# save_in_word2vec_format(vecs_cleaned_inlp, words_all, \"../../glove.42B.300d.cleaned-inlp.rank={}.txt\".format(rank))\n",
    "\n",
    "\n",
    "# model_cleaned, _, _ = load_word_vectors(fname = \"glove.42B.300d.cleaned.rank={}.txt\".format(rank))\n",
    "# model_cleaned_inlp, _, _ = load_word_vectors(fname = \"glove.42B.300d.cleaned-inlp.rank={}.txt\".format(rank))\n",
    "#  \"\"\"\n",
    "\n",
    "# import copy\n"
   ]
  },
  {
   "cell_type": "code",
   "execution_count": null,
   "metadata": {},
   "outputs": [],
   "source": [
    "def project_model(model, words, vecs, P):\n",
    "    \n",
    "    new = copy.deepcopy(model)\n",
    "    \n",
    "    vecs_proj = vecs@P\n",
    "    for w,v in tqdm.tqdm_notebook(zip(words, vecs_proj)):\n",
    "        new.__setitem__(w,v)\n",
    "    \n",
    "    return new"
   ]
  },
  {
   "cell_type": "markdown",
   "metadata": {},
   "source": [
    "## WEAT"
   ]
  },
  {
   "cell_type": "code",
   "execution_count": 47,
   "metadata": {},
   "outputs": [],
   "source": [
    "# Auxiliary functions for experiments by Caliskan et al.\n",
    "\n",
    "import scipy\n",
    "import scipy.misc as misc\n",
    "import itertools\n",
    "\n",
    "from sklearn.metrics.pairwise import cosine_similarity\n",
    "\n",
    "def get_sim(vecs, w2ind, w1, w2):\n",
    "    v1,v2 = vecs[w2ind[w1]], vecs[w2ind[w2]]\n",
    "    sim = cosine_similarity([v1],[v2])[0]\n",
    "    return sim\n",
    "    \n",
    "\n",
    "def s_word(w, A, B, vecs, w2ind, all_s_words):\n",
    "    \n",
    "    if w in all_s_words:\n",
    "        return all_s_words[w]\n",
    "    \n",
    "    mean_a = []\n",
    "    mean_b = []\n",
    "    \n",
    "    for a in A:\n",
    "        mean_a.append(get_sim(vecs, w2ind, w, a))# model.similarity(w,a))\n",
    "    for b in B:\n",
    "        mean_b.append(get_sim(vecs, w2ind, w, b)) # model.similarity(w,b))\n",
    "        \n",
    "    mean_a = sum(mean_a)/float(len(mean_a))\n",
    "    mean_b = sum(mean_b)/float(len(mean_b))\n",
    "    \n",
    "    all_s_words[w] = mean_a - mean_b\n",
    "\n",
    "    return all_s_words[w]\n",
    "\n",
    "\n",
    "def s_group(X, Y, A, B, vecs, w2ind, all_s_words):\n",
    "    \n",
    "    total = 0\n",
    "    total_x, total_y = 0.,0.\n",
    "    all_vals = []\n",
    "    \n",
    "    for x in X:\n",
    "        x_sim = s_word(x, A, B, vecs, w2ind, all_s_words)\n",
    "        total += x_sim\n",
    "        total_x += x_sim\n",
    "        all_vals.append(x_sim)\n",
    "    for y in Y:\n",
    "        y_sim =  s_word(y, A, B, vecs, w2ind, all_s_words)\n",
    "        total -= y_sim\n",
    "        total_y += y_sim\n",
    "        all_vals.append(y_sim)\n",
    "    \n",
    "    #print(x_sim, y_sim)\n",
    "    numerator = total_x/len(X) - total_y/len(Y)\n",
    "    \n",
    "    return total,numerator/np.std(all_vals)\n",
    "\n",
    "\n",
    "def p_value_exhust(X, Y, A, B, vecs, w2ind):\n",
    "    [\"Ps\"]\n",
    "    if len(X) > 10:\n",
    "        print ('might take too long, use sampled version: p_value')\n",
    "        return\n",
    "    \n",
    "    assert(len(X) == len(Y))\n",
    "    \n",
    "    all_s_words = {}\n",
    "    s_orig,d_statistic = s_group(X, Y, A, B, vecs, w2ind, all_s_words)\n",
    "    #print(\"s-orig: {}\".format(s_orig))\n",
    "    \n",
    "    union = set(X+Y)\n",
    "    subset_size = int(len(union)/2)\n",
    "    \n",
    "    larger = 0\n",
    "    total = 0\n",
    "    #all_subs = set(itertools.combinations(union, subset_size))\n",
    "    #print(all_subs)\n",
    "    s_group_vals = []\n",
    "    \n",
    "    for subset in set(itertools.combinations(union, subset_size)):\n",
    "        total += 1\n",
    "        Xi = list(set(subset))\n",
    "        Yi = list(union - set(subset))\n",
    "        \n",
    "        \n",
    "        val,_ = s_group(Xi, Yi, A, B, vecs, w2ind, all_s_words)\n",
    "        s_group_vals.append(val)\n",
    "        \n",
    "        if val > s_orig:\n",
    "            larger += 1\n",
    "    #print ('num of samples', total)\n",
    "    \n",
    "    return larger/float(total), d_statistic\n",
    "\n",
    "\n",
    "def p_value_sample(X, Y, A, B, vecs, w2ind):\n",
    "    \n",
    "    random.seed(10)\n",
    "    np.random.seed(10)\n",
    "    all_s_words = {}\n",
    "    \n",
    "    assert(len(X) == len(Y))\n",
    "    length = len(X)\n",
    "    \n",
    "    s_orig,_ = s_group(X, Y, A, B, vecs, w2ind, all_s_words) \n",
    "    \n",
    "    num_of_samples = min(10000, int(scipy.special.comb(length*2,length)*100))\n",
    "    print ('num of samples', num_of_samples)\n",
    "    larger = 0\n",
    "    for i in range(num_of_samples):\n",
    "        permute = np.random.permutation(X+Y)\n",
    "        Xi = permute[:length]\n",
    "        Yi = permute[length:]\n",
    "        if s_group(Xi, Yi, A, B, vecs, w2ind, all_s_words) > s_orig:\n",
    "            larger += 1\n",
    "    \n",
    "    return larger/float(num_of_samples)"
   ]
  },
  {
   "cell_type": "code",
   "execution_count": 48,
   "metadata": {},
   "outputs": [],
   "source": [
    "w2ind = {w:i for i,w in enumerate(words_all)}"
   ]
  },
  {
   "cell_type": "code",
   "execution_count": 49,
   "metadata": {},
   "outputs": [
    {
     "name": "stdout",
     "output_type": "stream",
     "text": [
      "Relaxed (0.07420357420357421, array([0.77301392]))\n",
      "INLP (0.011732711732711733, array([1.08871693]))\n",
      "PCA (0.0, array([1.68714718]))\n",
      "original (7.77000777000777e-05, array([1.694486], dtype=float32))\n",
      "======================================================\n",
      "Relaxed (0.06045066045066045, array([0.80773742]))\n",
      "INLP (0.03325563325563326, array([0.94080575]))\n",
      "PCA (0.0, array([1.56472705]))\n",
      "original (7.77000777000777e-05, array([1.5671507], dtype=float32))\n",
      "======================================================\n",
      "Relaxed (0.06822066822066822, array([0.7797685]))\n",
      "INLP (0.05485625485625486, array([0.8194422]))\n",
      "PCA (7.77000777000777e-05, array([1.6312805]))\n",
      "original (0.0001554001554001554, array([1.6302873], dtype=float32))\n"
     ]
    }
   ],
   "source": [
    "# Experiment 1\n",
    "vecs_cleaned_rlace = vecs_all @ projs_rlace[0][1]\n",
    "vecs_cleaned_inlp = vecs_all @ projs_inlp[0][0]\n",
    "vecs_cleaned_pca = vecs_all @ projs_words[0]\n",
    "vecs_original = vecs_all\n",
    "\n",
    "A = ['john', 'paul', 'mike', 'kevin', 'steve', 'greg', 'jeff', 'bill']\n",
    "B = ['amy', 'joan', 'lisa', 'sarah', 'diana', 'kate', 'ann', 'donna']\n",
    "\n",
    "C = ['executive', 'management', 'professional', 'corporation', 'salary', 'office', 'business', 'career']\n",
    "D = ['home', 'parents', 'children', 'family', 'cousins', 'marriage', 'wedding', 'relatives']\n",
    "\n",
    "print (\"Relaxed\", p_value_exhust(A, B, C, D, vecs_cleaned_rlace, w2ind))\n",
    "print (\"INLP\", p_value_exhust(A, B, C, D, vecs_cleaned_inlp, w2ind))\n",
    "print (\"PCA\", p_value_exhust(A, B, C, D, vecs_cleaned_pca, w2ind))\n",
    "print (\"original\", p_value_exhust(A, B, C, D, vecs_original, w2ind))\n",
    "\n",
    "print(\"======================================================\")\n",
    "\n",
    "# Experiment 2\n",
    "\n",
    "E = ['math', 'algebra', 'geometry', 'calculus', 'equations', 'computation', 'numbers', 'addition']\n",
    "F = ['poetry', 'art', 'dance', 'literature', 'novel', 'symphony', 'drama', 'sculpture']\n",
    "\n",
    "print (\"Relaxed\", p_value_exhust(A, B, E, F, vecs_cleaned_rlace, w2ind))\n",
    "print (\"INLP\", p_value_exhust(A, B, E, F, vecs_cleaned_inlp, w2ind))\n",
    "print (\"PCA\", p_value_exhust(A, B, E, F, vecs_cleaned_pca, w2ind))\n",
    "print (\"original\", p_value_exhust(A, B, E, F, vecs_original, w2ind))\n",
    "\n",
    "print(\"======================================================\")\n",
    "\n",
    "# Experiment 3\n",
    "\n",
    "G = ['science', 'technology', 'physics', 'chemistry', 'einstein', 'nasa', 'experiment', 'astronomy']\n",
    "H = ['poetry', 'art', 'shakespeare', 'dance', 'literature', 'novel', 'symphony', 'drama']\n",
    "\n",
    "print (\"Relaxed\", p_value_exhust(A, B, G, H, vecs_cleaned_rlace, w2ind))\n",
    "print (\"INLP\", p_value_exhust(A, B, G, H, vecs_cleaned_inlp, w2ind))\n",
    "print (\"PCA\", p_value_exhust(A, B, G, H, vecs_cleaned_pca, w2ind))\n",
    "print (\"original\", p_value_exhust(A, B, G, H, vecs_original, w2ind))\n"
   ]
  },
  {
   "cell_type": "code",
   "execution_count": 50,
   "metadata": {},
   "outputs": [
    {
     "name": "stderr",
     "output_type": "stream",
     "text": [
      "/home/nlp/ravfogs/anaconda3/envs/py3/lib/python3.7/site-packages/ipykernel_launcher.py:11: TqdmDeprecationWarning: This function will be removed in tqdm==5.0.0\n",
      "Please use `tqdm.notebook.tqdm` instead of `tqdm.tqdm_notebook`\n",
      "  # This is added back by InteractiveShellApp.init_path()\n"
     ]
    },
    {
     "data": {
      "application/vnd.jupyter.widget-view+json": {
       "model_id": "4030db239d374383bdb97e0a628df476",
       "version_major": 2,
       "version_minor": 0
      },
      "text/plain": [
       "HBox(children=(FloatProgress(value=0.0, max=5.0), HTML(value='')))"
      ]
     },
     "metadata": {},
     "output_type": "display_data"
    },
    {
     "name": "stdout",
     "output_type": "stream",
     "text": [
      "\n"
     ]
    },
    {
     "name": "stderr",
     "output_type": "stream",
     "text": [
      "/home/nlp/ravfogs/anaconda3/envs/py3/lib/python3.7/site-packages/ipykernel_launcher.py:11: TqdmDeprecationWarning: This function will be removed in tqdm==5.0.0\n",
      "Please use `tqdm.notebook.tqdm` instead of `tqdm.tqdm_notebook`\n",
      "  # This is added back by InteractiveShellApp.init_path()\n"
     ]
    },
    {
     "data": {
      "application/vnd.jupyter.widget-view+json": {
       "model_id": "6e758ce388b84f34b3735dc88afca226",
       "version_major": 2,
       "version_minor": 0
      },
      "text/plain": [
       "HBox(children=(FloatProgress(value=0.0, max=5.0), HTML(value='')))"
      ]
     },
     "metadata": {},
     "output_type": "display_data"
    },
    {
     "name": "stdout",
     "output_type": "stream",
     "text": [
      "\n"
     ]
    },
    {
     "name": "stderr",
     "output_type": "stream",
     "text": [
      "/home/nlp/ravfogs/anaconda3/envs/py3/lib/python3.7/site-packages/ipykernel_launcher.py:11: TqdmDeprecationWarning: This function will be removed in tqdm==5.0.0\n",
      "Please use `tqdm.notebook.tqdm` instead of `tqdm.tqdm_notebook`\n",
      "  # This is added back by InteractiveShellApp.init_path()\n"
     ]
    },
    {
     "data": {
      "application/vnd.jupyter.widget-view+json": {
       "model_id": "dc8c070a785b4efe851531e6b96f7953",
       "version_major": 2,
       "version_minor": 0
      },
      "text/plain": [
       "HBox(children=(FloatProgress(value=0.0, max=5.0), HTML(value='')))"
      ]
     },
     "metadata": {},
     "output_type": "display_data"
    },
    {
     "name": "stdout",
     "output_type": "stream",
     "text": [
      "\n"
     ]
    },
    {
     "name": "stderr",
     "output_type": "stream",
     "text": [
      "/home/nlp/ravfogs/anaconda3/envs/py3/lib/python3.7/site-packages/ipykernel_launcher.py:11: TqdmDeprecationWarning: This function will be removed in tqdm==5.0.0\n",
      "Please use `tqdm.notebook.tqdm` instead of `tqdm.tqdm_notebook`\n",
      "  # This is added back by InteractiveShellApp.init_path()\n"
     ]
    },
    {
     "data": {
      "application/vnd.jupyter.widget-view+json": {
       "model_id": "010d7895272947d282cf6ca6016d709d",
       "version_major": 2,
       "version_minor": 0
      },
      "text/plain": [
       "HBox(children=(FloatProgress(value=0.0, max=5.0), HTML(value='')))"
      ]
     },
     "metadata": {},
     "output_type": "display_data"
    },
    {
     "name": "stdout",
     "output_type": "stream",
     "text": [
      "\n"
     ]
    },
    {
     "name": "stderr",
     "output_type": "stream",
     "text": [
      "/home/nlp/ravfogs/anaconda3/envs/py3/lib/python3.7/site-packages/ipykernel_launcher.py:11: TqdmDeprecationWarning: This function will be removed in tqdm==5.0.0\n",
      "Please use `tqdm.notebook.tqdm` instead of `tqdm.tqdm_notebook`\n",
      "  # This is added back by InteractiveShellApp.init_path()\n"
     ]
    },
    {
     "data": {
      "application/vnd.jupyter.widget-view+json": {
       "model_id": "4c2d1417cfbf46e992c18f9a4fd47771",
       "version_major": 2,
       "version_minor": 0
      },
      "text/plain": [
       "HBox(children=(FloatProgress(value=0.0, max=5.0), HTML(value='')))"
      ]
     },
     "metadata": {},
     "output_type": "display_data"
    },
    {
     "name": "stdout",
     "output_type": "stream",
     "text": [
      "\n"
     ]
    },
    {
     "name": "stderr",
     "output_type": "stream",
     "text": [
      "/home/nlp/ravfogs/anaconda3/envs/py3/lib/python3.7/site-packages/ipykernel_launcher.py:11: TqdmDeprecationWarning: This function will be removed in tqdm==5.0.0\n",
      "Please use `tqdm.notebook.tqdm` instead of `tqdm.tqdm_notebook`\n",
      "  # This is added back by InteractiveShellApp.init_path()\n"
     ]
    },
    {
     "data": {
      "application/vnd.jupyter.widget-view+json": {
       "model_id": "469c63f6259146e69fefdbaab72661df",
       "version_major": 2,
       "version_minor": 0
      },
      "text/plain": [
       "HBox(children=(FloatProgress(value=0.0, max=5.0), HTML(value='')))"
      ]
     },
     "metadata": {},
     "output_type": "display_data"
    },
    {
     "name": "stdout",
     "output_type": "stream",
     "text": [
      "\n"
     ]
    },
    {
     "name": "stderr",
     "output_type": "stream",
     "text": [
      "/home/nlp/ravfogs/anaconda3/envs/py3/lib/python3.7/site-packages/ipykernel_launcher.py:11: TqdmDeprecationWarning: This function will be removed in tqdm==5.0.0\n",
      "Please use `tqdm.notebook.tqdm` instead of `tqdm.tqdm_notebook`\n",
      "  # This is added back by InteractiveShellApp.init_path()\n"
     ]
    },
    {
     "data": {
      "application/vnd.jupyter.widget-view+json": {
       "model_id": "87e5f1b28ea241b2b54659bc1fdbbe06",
       "version_major": 2,
       "version_minor": 0
      },
      "text/plain": [
       "HBox(children=(FloatProgress(value=0.0, max=5.0), HTML(value='')))"
      ]
     },
     "metadata": {},
     "output_type": "display_data"
    },
    {
     "name": "stdout",
     "output_type": "stream",
     "text": [
      "\n"
     ]
    },
    {
     "name": "stderr",
     "output_type": "stream",
     "text": [
      "/home/nlp/ravfogs/anaconda3/envs/py3/lib/python3.7/site-packages/ipykernel_launcher.py:11: TqdmDeprecationWarning: This function will be removed in tqdm==5.0.0\n",
      "Please use `tqdm.notebook.tqdm` instead of `tqdm.tqdm_notebook`\n",
      "  # This is added back by InteractiveShellApp.init_path()\n"
     ]
    },
    {
     "data": {
      "application/vnd.jupyter.widget-view+json": {
       "model_id": "034459d8b2234f8581f1049d79989336",
       "version_major": 2,
       "version_minor": 0
      },
      "text/plain": [
       "HBox(children=(FloatProgress(value=0.0, max=5.0), HTML(value='')))"
      ]
     },
     "metadata": {},
     "output_type": "display_data"
    },
    {
     "name": "stdout",
     "output_type": "stream",
     "text": [
      "\n"
     ]
    },
    {
     "name": "stderr",
     "output_type": "stream",
     "text": [
      "/home/nlp/ravfogs/anaconda3/envs/py3/lib/python3.7/site-packages/ipykernel_launcher.py:11: TqdmDeprecationWarning: This function will be removed in tqdm==5.0.0\n",
      "Please use `tqdm.notebook.tqdm` instead of `tqdm.tqdm_notebook`\n",
      "  # This is added back by InteractiveShellApp.init_path()\n"
     ]
    },
    {
     "data": {
      "application/vnd.jupyter.widget-view+json": {
       "model_id": "3cad60c95d714ded8a31aa1f9810396a",
       "version_major": 2,
       "version_minor": 0
      },
      "text/plain": [
       "HBox(children=(FloatProgress(value=0.0, max=5.0), HTML(value='')))"
      ]
     },
     "metadata": {},
     "output_type": "display_data"
    },
    {
     "name": "stdout",
     "output_type": "stream",
     "text": [
      "\n"
     ]
    }
   ],
   "source": [
    "vecs_original = vecs_all  \n",
    "weat = defaultdict(list)\n",
    "weat_type2pair = {\"profession-family\": (C,D), \"math-art\": (E,F), \"science-art\": (G,H)}\n",
    "\n",
    "for weat_type in [\"profession-family\", \"math-art\", \"science-art\"]:\n",
    "    for method in [\"PCA\", \"RLACE\", \"INLP\"]:\n",
    "    \n",
    "        ps = []\n",
    "        ds = []\n",
    "        \n",
    "        for seed in tqdm.tqdm_notebook(range(5)):\n",
    "                \n",
    "                vecs_cleaned_rlace = vecs_all @ projs_rlace[seed][1]\n",
    "                vecs_cleaned_inlp = vecs_all @ projs_inlp[seed][0]\n",
    "                vecs_cleaned_pca = vecs_all @ projs_words[0]\n",
    "                method2vecs = {\"PCA\": vecs_cleaned_pca, \"INLP\": vecs_cleaned_inlp, \"RLACE\": vecs_cleaned_rlace}\n",
    "\n",
    "                p,d = p_value_exhust(A, B, *weat_type2pair[weat_type], method2vecs[method], w2ind)\n",
    "                d = d.item()\n",
    "                ps.append(p)\n",
    "                ds.append(d)\n",
    "        mean_p, std_p = np.mean(ps), np.std(ps)\n",
    "        mean_d, std_d = np.mean(ds), np.std(ds)\n",
    "        d_str = \"{:.2f} $\\pm$ {:.2f}\".format(mean_d, std_d)\n",
    "        p_str = \"{:.3f} $\\pm$ {:.3f}\".format(mean_p, std_p)\n",
    "        weat[weat_type].append({\"Method\": method, \"p\": p_str, \"d\": d_str})"
   ]
  },
  {
   "cell_type": "code",
   "execution_count": 58,
   "metadata": {},
   "outputs": [],
   "source": [
    "p_orig,d_orig = p_value_exhust(A, B, C,D, vecs_all, w2ind)\n",
    "d_orig=d_orig.item()\n",
    "\n",
    "p_orig2,d_orig2 = p_value_exhust(A, B, E,F, vecs_all, w2ind)\n",
    "d_orig2=d_orig2.item()\n",
    "\n",
    "p_orig3,d_orig3 = p_value_exhust(A, B, G,H, vecs_all, w2ind)\n",
    "d_orig3=d_orig3.item()\n",
    "\n",
    "\n",
    "d_str = \"{:.2f}\".format(d_orig)\n",
    "p_str = \"{:.3f}\".format(p_orig)\n",
    "d_str2 = \"{:.2f}\".format(d_orig2)\n",
    "p_str2 = \"{:.3f}\".format(p_orig2)\n",
    "d_str3 = \"{:.2f}\".format(d_orig3)\n",
    "p_str3 = \"{:.3f}\".format(p_orig3)"
   ]
  },
  {
   "cell_type": "code",
   "execution_count": 59,
   "metadata": {},
   "outputs": [],
   "source": [
    "weat[\"profession-family\"] = [{\"Method\": \"Original\", \"d\": d_str, \"p\": p_str}] + weat[\"profession-family\"]\n",
    "weat[\"math-art\"] = [{\"Method\": \"Original\", \"d\": d_str2, \"p\": p_str2}] + weat[\"math-art\"] \n",
    "weat[\"science-art\"] = [{\"Method\": \"Original\", \"d\": d_str3, \"p\": p_str3}] + weat[\"science-art\"] "
   ]
  },
  {
   "cell_type": "code",
   "execution_count": 60,
   "metadata": {},
   "outputs": [
    {
     "data": {
      "text/html": [
       "<div>\n",
       "<style scoped>\n",
       "    .dataframe tbody tr th:only-of-type {\n",
       "        vertical-align: middle;\n",
       "    }\n",
       "\n",
       "    .dataframe tbody tr th {\n",
       "        vertical-align: top;\n",
       "    }\n",
       "\n",
       "    .dataframe thead th {\n",
       "        text-align: right;\n",
       "    }\n",
       "</style>\n",
       "<table border=\"1\" class=\"dataframe\">\n",
       "  <thead>\n",
       "    <tr style=\"text-align: right;\">\n",
       "      <th></th>\n",
       "      <th>Method</th>\n",
       "      <th>d</th>\n",
       "      <th>p</th>\n",
       "    </tr>\n",
       "  </thead>\n",
       "  <tbody>\n",
       "    <tr>\n",
       "      <th>0</th>\n",
       "      <td>Original</td>\n",
       "      <td>1.57</td>\n",
       "      <td>0.000</td>\n",
       "    </tr>\n",
       "    <tr>\n",
       "      <th>1</th>\n",
       "      <td>Original</td>\n",
       "      <td>1.57</td>\n",
       "      <td>0.000</td>\n",
       "    </tr>\n",
       "    <tr>\n",
       "      <th>2</th>\n",
       "      <td>PCA</td>\n",
       "      <td>1.56 $\\pm$ 0.00</td>\n",
       "      <td>0.000 $\\pm$ 0.000</td>\n",
       "    </tr>\n",
       "    <tr>\n",
       "      <th>3</th>\n",
       "      <td>RLACE</td>\n",
       "      <td>0.80 $\\pm$ 0.01</td>\n",
       "      <td>0.062 $\\pm$ 0.002</td>\n",
       "    </tr>\n",
       "    <tr>\n",
       "      <th>4</th>\n",
       "      <td>INLP</td>\n",
       "      <td>1.10 $\\pm$ 0.10</td>\n",
       "      <td>0.016 $\\pm$ 0.009</td>\n",
       "    </tr>\n",
       "  </tbody>\n",
       "</table>\n",
       "</div>"
      ],
      "text/plain": [
       "     Method                d                  p\n",
       "0  Original             1.57              0.000\n",
       "1  Original             1.57              0.000\n",
       "2       PCA  1.56 $\\pm$ 0.00  0.000 $\\pm$ 0.000\n",
       "3     RLACE  0.80 $\\pm$ 0.01  0.062 $\\pm$ 0.002\n",
       "4      INLP  1.10 $\\pm$ 0.10  0.016 $\\pm$ 0.009"
      ]
     },
     "execution_count": 60,
     "metadata": {},
     "output_type": "execute_result"
    }
   ],
   "source": [
    "pd.DataFrame(weat[\"math-art\"])"
   ]
  },
  {
   "cell_type": "code",
   "execution_count": 62,
   "metadata": {},
   "outputs": [
    {
     "data": {
      "text/html": [
       "<div>\n",
       "<style scoped>\n",
       "    .dataframe tbody tr th:only-of-type {\n",
       "        vertical-align: middle;\n",
       "    }\n",
       "\n",
       "    .dataframe tbody tr th {\n",
       "        vertical-align: top;\n",
       "    }\n",
       "\n",
       "    .dataframe thead th {\n",
       "        text-align: right;\n",
       "    }\n",
       "</style>\n",
       "<table border=\"1\" class=\"dataframe\">\n",
       "  <thead>\n",
       "    <tr style=\"text-align: right;\">\n",
       "      <th></th>\n",
       "      <th>Method</th>\n",
       "      <th>d</th>\n",
       "      <th>p</th>\n",
       "    </tr>\n",
       "  </thead>\n",
       "  <tbody>\n",
       "    <tr>\n",
       "      <th>0</th>\n",
       "      <td>Original</td>\n",
       "      <td>1.63</td>\n",
       "      <td>0.000</td>\n",
       "    </tr>\n",
       "    <tr>\n",
       "      <th>1</th>\n",
       "      <td>Original</td>\n",
       "      <td>1.63</td>\n",
       "      <td>0.000</td>\n",
       "    </tr>\n",
       "    <tr>\n",
       "      <th>2</th>\n",
       "      <td>PCA</td>\n",
       "      <td>1.63 $\\pm$ 0.00</td>\n",
       "      <td>0.000 $\\pm$ 0.000</td>\n",
       "    </tr>\n",
       "    <tr>\n",
       "      <th>3</th>\n",
       "      <td>RLACE</td>\n",
       "      <td>0.77 $\\pm$ 0.01</td>\n",
       "      <td>0.073 $\\pm$ 0.003</td>\n",
       "    </tr>\n",
       "    <tr>\n",
       "      <th>4</th>\n",
       "      <td>INLP</td>\n",
       "      <td>1.03 $\\pm$ 0.11</td>\n",
       "      <td>0.022 $\\pm$ 0.016</td>\n",
       "    </tr>\n",
       "  </tbody>\n",
       "</table>\n",
       "</div>"
      ],
      "text/plain": [
       "     Method                d                  p\n",
       "0  Original             1.63              0.000\n",
       "1  Original             1.63              0.000\n",
       "2       PCA  1.63 $\\pm$ 0.00  0.000 $\\pm$ 0.000\n",
       "3     RLACE  0.77 $\\pm$ 0.01  0.073 $\\pm$ 0.003\n",
       "4      INLP  1.03 $\\pm$ 0.11  0.022 $\\pm$ 0.016"
      ]
     },
     "execution_count": 62,
     "metadata": {},
     "output_type": "execute_result"
    }
   ],
   "source": [
    "pd.DataFrame(weat[\"science-art\"])"
   ]
  },
  {
   "cell_type": "code",
   "execution_count": 63,
   "metadata": {},
   "outputs": [
    {
     "data": {
      "text/html": [
       "<div>\n",
       "<style scoped>\n",
       "    .dataframe tbody tr th:only-of-type {\n",
       "        vertical-align: middle;\n",
       "    }\n",
       "\n",
       "    .dataframe tbody tr th {\n",
       "        vertical-align: top;\n",
       "    }\n",
       "\n",
       "    .dataframe thead th {\n",
       "        text-align: right;\n",
       "    }\n",
       "</style>\n",
       "<table border=\"1\" class=\"dataframe\">\n",
       "  <thead>\n",
       "    <tr style=\"text-align: right;\">\n",
       "      <th></th>\n",
       "      <th>Method</th>\n",
       "      <th>d</th>\n",
       "      <th>p</th>\n",
       "    </tr>\n",
       "  </thead>\n",
       "  <tbody>\n",
       "    <tr>\n",
       "      <th>0</th>\n",
       "      <td>Original</td>\n",
       "      <td>1.69</td>\n",
       "      <td>0.000</td>\n",
       "    </tr>\n",
       "    <tr>\n",
       "      <th>1</th>\n",
       "      <td>Original</td>\n",
       "      <td>1.69</td>\n",
       "      <td>0.000</td>\n",
       "    </tr>\n",
       "    <tr>\n",
       "      <th>2</th>\n",
       "      <td>PCA</td>\n",
       "      <td>1.69 $\\pm$ 0.00</td>\n",
       "      <td>0.000 $\\pm$ 0.000</td>\n",
       "    </tr>\n",
       "    <tr>\n",
       "      <th>3</th>\n",
       "      <td>RLACE</td>\n",
       "      <td>0.78 $\\pm$ 0.01</td>\n",
       "      <td>0.072 $\\pm$ 0.003</td>\n",
       "    </tr>\n",
       "    <tr>\n",
       "      <th>4</th>\n",
       "      <td>INLP</td>\n",
       "      <td>1.15 $\\pm$ 0.07</td>\n",
       "      <td>0.007 $\\pm$ 0.003</td>\n",
       "    </tr>\n",
       "  </tbody>\n",
       "</table>\n",
       "</div>"
      ],
      "text/plain": [
       "     Method                d                  p\n",
       "0  Original             1.69              0.000\n",
       "1  Original             1.69              0.000\n",
       "2       PCA  1.69 $\\pm$ 0.00  0.000 $\\pm$ 0.000\n",
       "3     RLACE  0.78 $\\pm$ 0.01  0.072 $\\pm$ 0.003\n",
       "4      INLP  1.15 $\\pm$ 0.07  0.007 $\\pm$ 0.003"
      ]
     },
     "execution_count": 63,
     "metadata": {},
     "output_type": "execute_result"
    }
   ],
   "source": [
    "pd.DataFrame(weat[\"profession-family\"])"
   ]
  },
  {
   "cell_type": "code",
   "execution_count": 120,
   "metadata": {},
   "outputs": [],
   "source": [
    "with pd.option_context(\"max_colwidth\", 1000):\n",
    "    \n",
    "    pd.DataFrame(weat[\"math-art\"]).to_latex(buf=\"table-weat-math-art-rlace.latex\", encoding='utf-8',escape=False,index=False)"
   ]
  },
  {
   "cell_type": "code",
   "execution_count": 121,
   "metadata": {},
   "outputs": [],
   "source": [
    "with pd.option_context(\"max_colwidth\", 1000):\n",
    "    \n",
    "    pd.DataFrame(weat[\"profession-family\"]).to_latex(buf=\"table-weat-profession-family-rlace.latex\", encoding='utf-8',escape=False,index=False)"
   ]
  },
  {
   "cell_type": "code",
   "execution_count": 122,
   "metadata": {},
   "outputs": [],
   "source": [
    "with pd.option_context(\"max_colwidth\", 1000):\n",
    "    \n",
    "    pd.DataFrame(weat[\"science-art\"]).to_latex(buf=\"table-weat-science-art-rlace.latex\", encoding='utf-8',escape=False,index=False)"
   ]
  },
  {
   "cell_type": "markdown",
   "metadata": {},
   "source": [
    "## Smantic content"
   ]
  },
  {
   "cell_type": "code",
   "execution_count": 139,
   "metadata": {},
   "outputs": [
    {
     "name": "stderr",
     "output_type": "stream",
     "text": [
      "/home/nlp/ravfogs/anaconda3/envs/py3/lib/python3.7/site-packages/ipykernel_launcher.py:40: TqdmDeprecationWarning: This function will be removed in tqdm==5.0.0\n",
      "Please use `tqdm.notebook.tqdm` instead of `tqdm.tqdm_notebook`\n"
     ]
    },
    {
     "data": {
      "application/vnd.jupyter.widget-view+json": {
       "model_id": "5a1e92a4e3b1464c93c39606a037ab6f",
       "version_major": 2,
       "version_minor": 0
      },
      "text/plain": [
       "HBox(children=(FloatProgress(value=0.0, max=5.0), HTML(value='')))"
      ]
     },
     "metadata": {},
     "output_type": "display_data"
    },
    {
     "name": "stdout",
     "output_type": "stream",
     "text": [
      "1\n",
      "2\n",
      "4\n",
      "8\n",
      "12\n",
      "16\n",
      "20\n",
      "1\n",
      "2\n",
      "4\n",
      "8\n",
      "12\n",
      "16\n",
      "20\n",
      "1\n",
      "2\n",
      "4\n",
      "8\n",
      "12\n",
      "16\n",
      "20\n",
      "1\n",
      "2\n",
      "4\n",
      "8\n",
      "12\n",
      "16\n",
      "20\n",
      "1\n",
      "2\n",
      "4\n",
      "8\n",
      "12\n",
      "16\n",
      "20\n",
      "\n"
     ]
    }
   ],
   "source": [
    "import pandas\n",
    "\n",
    "\n",
    "def get_corr(vecs, w2ind):\n",
    "    \n",
    "    \n",
    "    df = pandas.read_csv(\"glove_data/SimLex-999.txt\", sep=\"\\t\")\n",
    "    word1,word2,sim = df[\"word1\"].tolist(), df[\"word2\"].tolist(), df[\"SimLex999\"].tolist()\n",
    "    sim_pred = []\n",
    "    sim = np.array(sim)\n",
    "\n",
    "    has_w1 = [True if w in w2ind else False for w in word1]\n",
    "    has_w2 = [True if w in w2ind else False for w in word2]\n",
    "    has_w = np.array([True if (p and q) else False for p,q in zip(has_w1,has_w2)])\n",
    "\n",
    "\n",
    "    ignored = []\n",
    "    for w1,w2,s in zip(word1, word2, sim):\n",
    "        if w1 not in w2ind or w2 not in w2ind: \n",
    "            #print(\"Skipping pair {}, {}\".format(w1, w2))\n",
    "            ignored.append(w1)\n",
    "            ignored.append(w2)\n",
    "            continue\n",
    "        sim_pred.append(get_sim(vecs, w2ind, w1, w2))\n",
    "        #sim_pred_relaxed.append(get_sim(vecs_cleaned_rlace, w2ind, w1, w2))\n",
    "        #sim_pred_inlp.append(get_sim(vecs_cleaned_inlp, w2ind, w1, w2))\n",
    "\n",
    "    sim = sim[has_w]\n",
    "    return scipy.stats.pearsonr(sim,sim_pred)[0]\n",
    "    #print(\"Correlation original: {}; Relaxed: {}; INLP: {}\".format(scipy.stats.pearsonr(sim,sim_pred_orig), \n",
    "    #                                                           scipy.stats.pearsonr(sim,sim_pred_relaxed), \n",
    "    #                                                           scipy.stats.pearsonr(sim,sim_pred_inlp)))\n",
    "    \n",
    "    \n",
    "originals = defaultdict(dict)\n",
    "rlace = defaultdict(dict)\n",
    "inlp = defaultdict(dict)\n",
    "pca = defaultdict(dict)\n",
    "\n",
    "for rand_seed in tqdm.tqdm_notebook(range(5)):    \n",
    "    vecs_cleaned_rlace = vecs_all @ projs_rlace[rand_seed][1]\n",
    "    vecs_cleaned_inlp = vecs_all @ projs_inlp[rand_seed][0]\n",
    "    vecs_cleaned_pca = vecs_all @ projs_words[0]\n",
    "\n",
    "    originals[0][0] = get_corr(vecs_all, w2ind)[0]\n",
    "    \n",
    "    for i,rank in enumerate(projs_rlace[rand_seed].keys()):\n",
    "        vecs_cleaned_rlace = vecs_all @ projs_rlace[rand_seed][rank]\n",
    "        print(rank)\n",
    "        vecs_cleaned_inlp = vecs_all @ (projs_inlp[rand_seed][rank-1] )\n",
    "        rlace[rand_seed][rank] = get_corr(vecs_cleaned_rlace, w2ind)[0]\n",
    "        inlp[rand_seed][rank] = get_corr(vecs_cleaned_inlp, w2ind)[0]\n",
    "        \n",
    "    for rank in range(len(projs_words)):\n",
    "        vecs_cleaned_pca = vecs_all @ projs_words[rank]\n",
    "        pca[0][rank+1] = get_corr(vecs_cleaned_pca, w2ind)[0]\n",
    "    \n"
   ]
  },
  {
   "cell_type": "code",
   "execution_count": 140,
   "metadata": {},
   "outputs": [],
   "source": [
    "# for k in originals:\n",
    "#     for k2 in originals[k]:\n",
    "#         originals[k][k2] = originals[k][k2].item()\n",
    "# for k in rlace:\n",
    "#     for k2 in rlace[k]:\n",
    "#         rlace[k][k2] = rlace[k][k2].item()\n",
    "# for k in inlp:\n",
    "#     for k2 in inlp[k]:\n",
    "#         inlp[k][k2] = inlp[k][k2].item()\n",
    "# for k in pca:\n",
    "#     for k2 in pca[k]:\n",
    "#         pca[k][k2] = pca[k][k2].item()\n",
    "        \n",
    "df_originals = pd.DataFrame(originals)\n",
    "df_rlace = pd.DataFrame(rlace)\n",
    "df_inlp = pd.DataFrame(inlp)\n",
    "df_pca = pd.DataFrame(pca)\n",
    "\n",
    "for df in [df_originals, df_rlace, df_inlp, df_pca]:\n",
    "    \n",
    "    df['average'] = df.mean(numeric_only=True, axis=1)\n",
    "    df[\"std\"] = df.std(numeric_only=True, axis=1)\n",
    "    df.rename_axis(\"Rank\", inplace=True)\n",
    "    df.reset_index(inplace=True)"
   ]
  },
  {
   "cell_type": "code",
   "execution_count": 141,
   "metadata": {},
   "outputs": [
    {
     "data": {
      "text/html": [
       "<div>\n",
       "<style scoped>\n",
       "    .dataframe tbody tr th:only-of-type {\n",
       "        vertical-align: middle;\n",
       "    }\n",
       "\n",
       "    .dataframe tbody tr th {\n",
       "        vertical-align: top;\n",
       "    }\n",
       "\n",
       "    .dataframe thead th {\n",
       "        text-align: right;\n",
       "    }\n",
       "</style>\n",
       "<table border=\"1\" class=\"dataframe\">\n",
       "  <thead>\n",
       "    <tr style=\"text-align: right;\">\n",
       "      <th></th>\n",
       "      <th>Rank</th>\n",
       "      <th>0</th>\n",
       "      <th>1</th>\n",
       "      <th>2</th>\n",
       "      <th>3</th>\n",
       "      <th>4</th>\n",
       "      <th>average</th>\n",
       "      <th>std</th>\n",
       "    </tr>\n",
       "  </thead>\n",
       "  <tbody>\n",
       "    <tr>\n",
       "      <th>0</th>\n",
       "      <td>1</td>\n",
       "      <td>0.394646</td>\n",
       "      <td>0.395354</td>\n",
       "      <td>0.395164</td>\n",
       "      <td>0.395119</td>\n",
       "      <td>0.395427</td>\n",
       "      <td>0.395142</td>\n",
       "      <td>0.000273</td>\n",
       "    </tr>\n",
       "    <tr>\n",
       "      <th>1</th>\n",
       "      <td>2</td>\n",
       "      <td>0.394551</td>\n",
       "      <td>0.396678</td>\n",
       "      <td>0.395174</td>\n",
       "      <td>0.394141</td>\n",
       "      <td>0.394080</td>\n",
       "      <td>0.394925</td>\n",
       "      <td>0.000959</td>\n",
       "    </tr>\n",
       "    <tr>\n",
       "      <th>2</th>\n",
       "      <td>4</td>\n",
       "      <td>0.392764</td>\n",
       "      <td>0.397447</td>\n",
       "      <td>0.395771</td>\n",
       "      <td>0.392791</td>\n",
       "      <td>0.392831</td>\n",
       "      <td>0.394321</td>\n",
       "      <td>0.001942</td>\n",
       "    </tr>\n",
       "    <tr>\n",
       "      <th>3</th>\n",
       "      <td>8</td>\n",
       "      <td>0.391651</td>\n",
       "      <td>0.394828</td>\n",
       "      <td>0.395624</td>\n",
       "      <td>0.390421</td>\n",
       "      <td>0.389623</td>\n",
       "      <td>0.392429</td>\n",
       "      <td>0.002387</td>\n",
       "    </tr>\n",
       "    <tr>\n",
       "      <th>4</th>\n",
       "      <td>12</td>\n",
       "      <td>0.386403</td>\n",
       "      <td>0.393794</td>\n",
       "      <td>0.393503</td>\n",
       "      <td>0.388746</td>\n",
       "      <td>0.388302</td>\n",
       "      <td>0.390150</td>\n",
       "      <td>0.002965</td>\n",
       "    </tr>\n",
       "    <tr>\n",
       "      <th>5</th>\n",
       "      <td>16</td>\n",
       "      <td>0.389442</td>\n",
       "      <td>0.390877</td>\n",
       "      <td>0.391766</td>\n",
       "      <td>0.388672</td>\n",
       "      <td>0.390344</td>\n",
       "      <td>0.390220</td>\n",
       "      <td>0.001081</td>\n",
       "    </tr>\n",
       "    <tr>\n",
       "      <th>6</th>\n",
       "      <td>20</td>\n",
       "      <td>0.396127</td>\n",
       "      <td>0.389760</td>\n",
       "      <td>0.393424</td>\n",
       "      <td>0.392856</td>\n",
       "      <td>0.393180</td>\n",
       "      <td>0.393070</td>\n",
       "      <td>0.002024</td>\n",
       "    </tr>\n",
       "  </tbody>\n",
       "</table>\n",
       "</div>"
      ],
      "text/plain": [
       "   Rank         0         1         2         3         4   average       std\n",
       "0     1  0.394646  0.395354  0.395164  0.395119  0.395427  0.395142  0.000273\n",
       "1     2  0.394551  0.396678  0.395174  0.394141  0.394080  0.394925  0.000959\n",
       "2     4  0.392764  0.397447  0.395771  0.392791  0.392831  0.394321  0.001942\n",
       "3     8  0.391651  0.394828  0.395624  0.390421  0.389623  0.392429  0.002387\n",
       "4    12  0.386403  0.393794  0.393503  0.388746  0.388302  0.390150  0.002965\n",
       "5    16  0.389442  0.390877  0.391766  0.388672  0.390344  0.390220  0.001081\n",
       "6    20  0.396127  0.389760  0.393424  0.392856  0.393180  0.393070  0.002024"
      ]
     },
     "execution_count": 141,
     "metadata": {},
     "output_type": "execute_result"
    }
   ],
   "source": [
    "df_inlp"
   ]
  },
  {
   "cell_type": "code",
   "execution_count": 142,
   "metadata": {},
   "outputs": [
    {
     "data": {
      "text/html": [
       "<div>\n",
       "<style scoped>\n",
       "    .dataframe tbody tr th:only-of-type {\n",
       "        vertical-align: middle;\n",
       "    }\n",
       "\n",
       "    .dataframe tbody tr th {\n",
       "        vertical-align: top;\n",
       "    }\n",
       "\n",
       "    .dataframe thead th {\n",
       "        text-align: right;\n",
       "    }\n",
       "</style>\n",
       "<table border=\"1\" class=\"dataframe\">\n",
       "  <thead>\n",
       "    <tr style=\"text-align: right;\">\n",
       "      <th></th>\n",
       "      <th>Rank</th>\n",
       "      <th>0</th>\n",
       "      <th>1</th>\n",
       "      <th>2</th>\n",
       "      <th>3</th>\n",
       "      <th>4</th>\n",
       "      <th>average</th>\n",
       "      <th>std</th>\n",
       "    </tr>\n",
       "  </thead>\n",
       "  <tbody>\n",
       "    <tr>\n",
       "      <th>0</th>\n",
       "      <td>1</td>\n",
       "      <td>0.392260</td>\n",
       "      <td>0.392466</td>\n",
       "      <td>0.392354</td>\n",
       "      <td>0.392393</td>\n",
       "      <td>0.392290</td>\n",
       "      <td>0.392353</td>\n",
       "      <td>0.000074</td>\n",
       "    </tr>\n",
       "    <tr>\n",
       "      <th>1</th>\n",
       "      <td>2</td>\n",
       "      <td>0.392309</td>\n",
       "      <td>0.392468</td>\n",
       "      <td>0.392738</td>\n",
       "      <td>0.393184</td>\n",
       "      <td>0.391761</td>\n",
       "      <td>0.392492</td>\n",
       "      <td>0.000471</td>\n",
       "    </tr>\n",
       "    <tr>\n",
       "      <th>2</th>\n",
       "      <td>4</td>\n",
       "      <td>0.389404</td>\n",
       "      <td>0.391196</td>\n",
       "      <td>0.391726</td>\n",
       "      <td>0.391849</td>\n",
       "      <td>0.393374</td>\n",
       "      <td>0.391510</td>\n",
       "      <td>0.001278</td>\n",
       "    </tr>\n",
       "    <tr>\n",
       "      <th>3</th>\n",
       "      <td>8</td>\n",
       "      <td>0.390623</td>\n",
       "      <td>0.392150</td>\n",
       "      <td>0.392385</td>\n",
       "      <td>0.392497</td>\n",
       "      <td>0.391311</td>\n",
       "      <td>0.391793</td>\n",
       "      <td>0.000718</td>\n",
       "    </tr>\n",
       "    <tr>\n",
       "      <th>4</th>\n",
       "      <td>12</td>\n",
       "      <td>0.391522</td>\n",
       "      <td>0.394520</td>\n",
       "      <td>0.390108</td>\n",
       "      <td>0.389775</td>\n",
       "      <td>0.388597</td>\n",
       "      <td>0.390904</td>\n",
       "      <td>0.002034</td>\n",
       "    </tr>\n",
       "    <tr>\n",
       "      <th>5</th>\n",
       "      <td>16</td>\n",
       "      <td>0.396603</td>\n",
       "      <td>0.391596</td>\n",
       "      <td>0.387501</td>\n",
       "      <td>0.393288</td>\n",
       "      <td>0.391805</td>\n",
       "      <td>0.392159</td>\n",
       "      <td>0.002938</td>\n",
       "    </tr>\n",
       "    <tr>\n",
       "      <th>6</th>\n",
       "      <td>20</td>\n",
       "      <td>0.390144</td>\n",
       "      <td>0.385910</td>\n",
       "      <td>0.390436</td>\n",
       "      <td>0.390817</td>\n",
       "      <td>0.391207</td>\n",
       "      <td>0.389703</td>\n",
       "      <td>0.001930</td>\n",
       "    </tr>\n",
       "  </tbody>\n",
       "</table>\n",
       "</div>"
      ],
      "text/plain": [
       "   Rank         0         1         2         3         4   average       std\n",
       "0     1  0.392260  0.392466  0.392354  0.392393  0.392290  0.392353  0.000074\n",
       "1     2  0.392309  0.392468  0.392738  0.393184  0.391761  0.392492  0.000471\n",
       "2     4  0.389404  0.391196  0.391726  0.391849  0.393374  0.391510  0.001278\n",
       "3     8  0.390623  0.392150  0.392385  0.392497  0.391311  0.391793  0.000718\n",
       "4    12  0.391522  0.394520  0.390108  0.389775  0.388597  0.390904  0.002034\n",
       "5    16  0.396603  0.391596  0.387501  0.393288  0.391805  0.392159  0.002938\n",
       "6    20  0.390144  0.385910  0.390436  0.390817  0.391207  0.389703  0.001930"
      ]
     },
     "execution_count": 142,
     "metadata": {},
     "output_type": "execute_result"
    }
   ],
   "source": [
    "df_rlace"
   ]
  },
  {
   "cell_type": "code",
   "execution_count": 143,
   "metadata": {},
   "outputs": [
    {
     "data": {
      "text/html": [
       "<div>\n",
       "<style scoped>\n",
       "    .dataframe tbody tr th:only-of-type {\n",
       "        vertical-align: middle;\n",
       "    }\n",
       "\n",
       "    .dataframe tbody tr th {\n",
       "        vertical-align: top;\n",
       "    }\n",
       "\n",
       "    .dataframe thead th {\n",
       "        text-align: right;\n",
       "    }\n",
       "</style>\n",
       "<table border=\"1\" class=\"dataframe\">\n",
       "  <thead>\n",
       "    <tr style=\"text-align: right;\">\n",
       "      <th></th>\n",
       "      <th>Rank</th>\n",
       "      <th>0</th>\n",
       "      <th>average</th>\n",
       "      <th>std</th>\n",
       "    </tr>\n",
       "  </thead>\n",
       "  <tbody>\n",
       "    <tr>\n",
       "      <th>0</th>\n",
       "      <td>1</td>\n",
       "      <td>0.168936</td>\n",
       "      <td>0.168936</td>\n",
       "      <td>0.0</td>\n",
       "    </tr>\n",
       "    <tr>\n",
       "      <th>1</th>\n",
       "      <td>2</td>\n",
       "      <td>0.340804</td>\n",
       "      <td>0.340804</td>\n",
       "      <td>0.0</td>\n",
       "    </tr>\n",
       "    <tr>\n",
       "      <th>2</th>\n",
       "      <td>3</td>\n",
       "      <td>0.319348</td>\n",
       "      <td>0.319348</td>\n",
       "      <td>0.0</td>\n",
       "    </tr>\n",
       "    <tr>\n",
       "      <th>3</th>\n",
       "      <td>4</td>\n",
       "      <td>0.384118</td>\n",
       "      <td>0.384118</td>\n",
       "      <td>0.0</td>\n",
       "    </tr>\n",
       "    <tr>\n",
       "      <th>4</th>\n",
       "      <td>5</td>\n",
       "      <td>0.395134</td>\n",
       "      <td>0.395134</td>\n",
       "      <td>0.0</td>\n",
       "    </tr>\n",
       "    <tr>\n",
       "      <th>5</th>\n",
       "      <td>6</td>\n",
       "      <td>0.386605</td>\n",
       "      <td>0.386605</td>\n",
       "      <td>0.0</td>\n",
       "    </tr>\n",
       "    <tr>\n",
       "      <th>6</th>\n",
       "      <td>7</td>\n",
       "      <td>0.396802</td>\n",
       "      <td>0.396802</td>\n",
       "      <td>0.0</td>\n",
       "    </tr>\n",
       "    <tr>\n",
       "      <th>7</th>\n",
       "      <td>8</td>\n",
       "      <td>0.387988</td>\n",
       "      <td>0.387988</td>\n",
       "      <td>0.0</td>\n",
       "    </tr>\n",
       "    <tr>\n",
       "      <th>8</th>\n",
       "      <td>9</td>\n",
       "      <td>0.404865</td>\n",
       "      <td>0.404865</td>\n",
       "      <td>0.0</td>\n",
       "    </tr>\n",
       "    <tr>\n",
       "      <th>9</th>\n",
       "      <td>10</td>\n",
       "      <td>0.409585</td>\n",
       "      <td>0.409585</td>\n",
       "      <td>0.0</td>\n",
       "    </tr>\n",
       "  </tbody>\n",
       "</table>\n",
       "</div>"
      ],
      "text/plain": [
       "   Rank         0   average  std\n",
       "0     1  0.168936  0.168936  0.0\n",
       "1     2  0.340804  0.340804  0.0\n",
       "2     3  0.319348  0.319348  0.0\n",
       "3     4  0.384118  0.384118  0.0\n",
       "4     5  0.395134  0.395134  0.0\n",
       "5     6  0.386605  0.386605  0.0\n",
       "6     7  0.396802  0.396802  0.0\n",
       "7     8  0.387988  0.387988  0.0\n",
       "8     9  0.404865  0.404865  0.0\n",
       "9    10  0.409585  0.409585  0.0"
      ]
     },
     "execution_count": 143,
     "metadata": {},
     "output_type": "execute_result"
    }
   ],
   "source": [
    "df_pca"
   ]
  },
  {
   "cell_type": "code",
   "execution_count": 144,
   "metadata": {},
   "outputs": [
    {
     "data": {
      "text/html": [
       "<div>\n",
       "<style scoped>\n",
       "    .dataframe tbody tr th:only-of-type {\n",
       "        vertical-align: middle;\n",
       "    }\n",
       "\n",
       "    .dataframe tbody tr th {\n",
       "        vertical-align: top;\n",
       "    }\n",
       "\n",
       "    .dataframe thead th {\n",
       "        text-align: right;\n",
       "    }\n",
       "</style>\n",
       "<table border=\"1\" class=\"dataframe\">\n",
       "  <thead>\n",
       "    <tr style=\"text-align: right;\">\n",
       "      <th></th>\n",
       "      <th>Rank</th>\n",
       "      <th>0</th>\n",
       "      <th>average</th>\n",
       "      <th>std</th>\n",
       "    </tr>\n",
       "  </thead>\n",
       "  <tbody>\n",
       "    <tr>\n",
       "      <th>0</th>\n",
       "      <td>0</td>\n",
       "      <td>0.399052</td>\n",
       "      <td>0.399052</td>\n",
       "      <td>0.0</td>\n",
       "    </tr>\n",
       "  </tbody>\n",
       "</table>\n",
       "</div>"
      ],
      "text/plain": [
       "   Rank         0   average  std\n",
       "0     0  0.399052  0.399052  0.0"
      ]
     },
     "execution_count": 144,
     "metadata": {},
     "output_type": "execute_result"
    }
   ],
   "source": [
    "df_originals"
   ]
  },
  {
   "cell_type": "code",
   "execution_count": 145,
   "metadata": {},
   "outputs": [],
   "source": [
    "common_vecs, common_ws = vecs_all[:15000], words_all[:15000]\n",
    "common_vecs_transformed =  common_vecs@projs_rlace[0][1]"
   ]
  },
  {
   "cell_type": "code",
   "execution_count": 146,
   "metadata": {},
   "outputs": [
    {
     "name": "stdout",
     "output_type": "stream",
     "text": [
      "history ['literature', 'histories', 'historical'] ['literature', 'histories', 'historical']\n",
      "1989 ['1991', '1987', '1988'] ['1991', '1987', '1988']\n",
      "afternoon ['saturday', 'evening', 'morning'] ['sunday', 'evening', 'morning']\n",
      "consumers ['buyers', 'customers', 'consumer'] ['buyers', 'customers', 'consumer']\n",
      "allowed ['allowing', 'allow', 'permitted'] ['allowing', 'allow', 'permitted']\n",
      "leg ['thigh', 'knee', 'legs'] ['thigh', 'knee', 'legs']\n",
      "manner ['therefore', 'regard', 'thus'] ['means', 'regard', 'thus']\n",
      "vinyl ['metal', 'lp', 'pvc'] ['metal', 'lp', 'pvc']\n",
      "injury ['injured', 'accident', 'injuries'] ['injured', 'accident', 'injuries']\n",
      "worried ['afraid', 'concerned', 'worry'] ['afraid', 'concerned', 'worry']\n",
      "dishes ['cooking', 'cuisine', 'dish'] ['meals', 'cuisine', 'dish']\n",
      "thursday ['monday', 'tuesday', 'wednesday'] ['monday', 'tuesday', 'wednesday']\n",
      "sisters ['brothers', 'daughters', 'sister'] ['daughters', 'brothers', 'sister']\n",
      "wants ['decides', 'thinks', 'knows'] ['decides', 'thinks', 'knows']\n",
      "covering ['cover', 'covered', 'covers'] ['cover', 'covered', 'covers']\n"
     ]
    }
   ],
   "source": [
    "sims_original = cosine_similarity(common_vecs,common_vecs)\n",
    "sims_transformed = cosine_similarity(common_vecs_transformed,common_vecs_transformed)\n",
    "sims_transformed = sims_transformed.argsort(axis=1)\n",
    "sims_original = sims_original.argsort(axis=1)\n",
    "\n",
    "words = []\n",
    "\n",
    "for i in range(15):\n",
    "    j = np.random.choice(range(5000))\n",
    "    w = common_ws[j]\n",
    "    before = [common_ws[k] for k in sims_original[j][-4:-1]]\n",
    "    after = [common_ws[k] for k in sims_transformed[j][-4:-1]]\n",
    "    print(w, before, after)\n",
    "    words.append({\"Word\": w, \"Neighbors before\": \", \".join(before), \"Neighbors after\": \", \".join(after)})"
   ]
  },
  {
   "cell_type": "code",
   "execution_count": 154,
   "metadata": {},
   "outputs": [],
   "source": [
    "df = pd.DataFrame(words)\n",
    "with pd.option_context(\"max_colwidth\", 1000):\n",
    "    \n",
    "    df.to_latex(buf=\"table-neighbors-rlace.latex\", encoding='utf-8',escape=False,index=False)"
   ]
  },
  {
   "cell_type": "code",
   "execution_count": 137,
   "metadata": {},
   "outputs": [
    {
     "name": "stdout",
     "output_type": "stream",
     "text": [
      "lawyer ['malpractice', 'litigation', 'attorneys', 'lawyers', 'attorney'] ['litigation', 'malpractice', 'attorneys', 'lawyers', 'attorney']\n"
     ]
    }
   ],
   "source": [
    "\n",
    "words = []\n",
    "\n",
    "word_set = [\"lucy\", \"john\", \"mary\", \"michael\", \"edith\", \"jonathan\", \"daniel\", \"ann\", \"anna\", \"olivia\", \"james\", \"sophia\"]\n",
    "\n",
    "female_names = [\"lucy\", \"mary\", \"edith\", \"ann\", \"olivia\", \"ann\", \"alice\", \"sophia\", \"emma\", \"naomi\", \"claire\", \"gabriella\",\n",
    "               \"clara\", \"jennifer\", \"judy\", \"angelina\", \"helen\"]\n",
    "male_names = [\"john\", \"michael\", \"jonathan\", \"daniel\", \"james\", \"samuel\"]\n",
    "\n",
    "\n",
    "\n",
    "\n",
    "for w in [\"lawyer\"]: #female_names + male_names:\n",
    "    j = words_all.index(w)\n",
    "    if j >= len(common_vecs): continue\n",
    "    before = [words_all[k] for k in sims_original[j][-6:-1]]\n",
    "    after = [words_all[k] for k in sims_transformed[j][-6:-1]]\n",
    "    print(w, before, after)\n",
    "    words.append({\"Word\": w, \"Neighbors before\": \", \".join(before), \"Neighbors after\": \", \".join(after)})"
   ]
  },
  {
   "cell_type": "code",
   "execution_count": 517,
   "metadata": {},
   "outputs": [
    {
     "data": {
      "text/plain": [
       "(7350, 3150, 4500)"
      ]
     },
     "execution_count": 517,
     "metadata": {},
     "output_type": "execute_result"
    }
   ],
   "source": [
    "X.shape[0], X_dev.shape[0], X_test.shape[0]"
   ]
  },
  {
   "cell_type": "code",
   "execution_count": null,
   "metadata": {},
   "outputs": [],
   "source": []
  }
 ],
 "metadata": {
  "kernelspec": {
   "display_name": "rlace",
   "language": "python",
   "name": "python3"
  },
  "language_info": {
   "codemirror_mode": {
    "name": "ipython",
    "version": 3
   },
   "file_extension": ".py",
   "mimetype": "text/x-python",
   "name": "python",
   "nbconvert_exporter": "python",
   "pygments_lexer": "ipython3",
   "version": "3.8.16"
  },
  "vscode": {
   "interpreter": {
    "hash": "0dda8425f5b2686a7d4649dd29b2ea64fce78f14efba812f7700f06d7544e589"
   }
  }
 },
 "nbformat": 4,
 "nbformat_minor": 4
}
